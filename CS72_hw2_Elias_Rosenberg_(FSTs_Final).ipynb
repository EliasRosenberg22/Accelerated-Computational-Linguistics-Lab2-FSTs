{
  "nbformat": 4,
  "nbformat_minor": 0,
  "metadata": {
    "colab": {
      "name": "CS72 hw2 Elias Rosenberg (FSTs Final)",
      "provenance": [],
      "collapsed_sections": []
    },
    "kernelspec": {
      "name": "python3",
      "display_name": "Python 3"
    },
    "language_info": {
      "name": "python"
    }
  },
  "cells": [
    {
      "cell_type": "markdown",
      "metadata": {
        "id": "TKJWLnBoPt8t"
      },
      "source": [
        "# Exercise 2: Finite State Transductors\n",
        "Dartmouth College, LING48, Spring 2021<br>\n",
        "Rolando Coto-Solano (Rolando.A.Coto.Solano@dartmouth.edu)<br>\n",
        "\n",
        "This program uses the `openfst` and `graphviz` packages:<br>\n",
        "http://www.openfst.org/twiki/bin/view/FST/PythonExtension<br>\n",
        "https://graphviz.readthedocs.io/en/stable/manual.html\n",
        "\n",
        "In this small example, you will see a transductor that reads English words and decomposes them morphologically. For example:\n",
        "\n",
        ">cats -> cat-PL<br>\n",
        ">dogs -> dog-PL<br>\n",
        ">cities -> city-PL\n",
        "\n",
        "This program has four parts:\n",
        "\n",
        "(1) First, we have the `fstSymbols`. This is the list of all of the elements you are going to have in the FST. (Practical advice: Make your transitions on paper first, and THEN figure out the symbols as you go).\n",
        "\n",
        "(2) Second, we have a list of compiler instructions. This is the list of all the transitions and final states in the FST.\n",
        "\n",
        "(3) Third, we have the `spellout` function. This function has the string as its input, and then goes character by character, calculating the path through the FST and its corresponding transformations.\n",
        "\n",
        "(4) Finally, we have a function that prints the FST into a PDF so you can see the transitions graphically. (You do not need to modify this)"
      ]
    },
    {
      "cell_type": "markdown",
      "metadata": {
        "id": "IbkFbn91P5y_"
      },
      "source": [
        "Step 1: Install the necessary packages.\n",
        "\n",
        "These are available for Linux computers on Anaconda, but they are not available for Windows Anaconda and they are difficult to install in MacOS Anaconda (https://anaconda.org/conda-forge/openfst)."
      ]
    },
    {
      "cell_type": "code",
      "metadata": {
        "colab": {
          "base_uri": "https://localhost:8080/"
        },
        "id": "Fps-Tcs-OWog",
        "outputId": "d6ada752-7941-4c16-cb0b-42813559176a"
      },
      "source": [
        "!pip install openfst-python\n",
        "!pip install graphviz"
      ],
      "execution_count": 1,
      "outputs": [
        {
          "output_type": "stream",
          "text": [
            "Requirement already satisfied: openfst-python in /usr/local/lib/python3.7/dist-packages (1.7.3)\n",
            "Requirement already satisfied: graphviz in /usr/local/lib/python3.7/dist-packages (0.10.1)\n"
          ],
          "name": "stdout"
        }
      ]
    },
    {
      "cell_type": "markdown",
      "metadata": {
        "id": "PuWhADRRQWEb"
      },
      "source": [
        "Step 2: Load packages"
      ]
    },
    {
      "cell_type": "code",
      "metadata": {
        "id": "Pp13JLssQYKp"
      },
      "source": [
        "import openfst_python as fst\n",
        "from graphviz import render\n",
        "from google.colab import files"
      ],
      "execution_count": 2,
      "outputs": []
    },
    {
      "cell_type": "markdown",
      "metadata": {
        "id": "9n6SHOrZQh6x"
      },
      "source": [
        "Step 3: The following four functions (`linear_fst`, `apply_fst`, `accepted`, `spellout`) carry out the FST processing. You do NOT need to modify them. They come from the [OpenFST tutorials](http://www.openfst.org/twiki/bin/view/FST/FstExamples)."
      ]
    },
    {
      "cell_type": "code",
      "metadata": {
        "id": "EooLZFhfQkGy"
      },
      "source": [
        "#Author: Elias Rosenberg\n",
        "#Date: April 11, 2021\n",
        "#Purpose: The purpose of this lab is to create two FSTs to traslate input Bribri verbs into their morphological parts, as well as \n",
        "#the translation into english of those parts. The inputs are a table of the Bribri verb to cook and 8 of its conjugations, as well as\n",
        "#the verbs \"to pop\" and \"to dig\" each with their infinitive endings. The outputs are two FSTs, as well as their outputs in string format in step 6.\n",
        "\n",
        "\n",
        "\n",
        "def linear_fst(elements, automata_op, keep_isymbols=True, **kwargs):\n",
        "    \"\"\"Produce a linear automata.\"\"\"\n",
        "    compiler = fst.Compiler(isymbols=automata_op.input_symbols().copy(), \n",
        "                            acceptor=keep_isymbols,\n",
        "                            keep_isymbols=keep_isymbols, \n",
        "                            **kwargs)\n",
        "\n",
        "    for i, el in enumerate(elements):\n",
        "        print(\"{} {} {}\".format(i, i+1, el),file=compiler)\n",
        "    print(str(i+1),file=compiler)\n",
        "\n",
        "    return compiler.compile()\n",
        "\n",
        "def apply_fst(elements, automata_op, is_project=True, **kwargs):\n",
        "    \"\"\"Compose a linear automata generated from `elements` with `automata_op`.\n",
        "\n",
        "    Args:\n",
        "        elements (list): ordered list of edge symbols for a linear automata.\n",
        "        automata_op (Fst): automata that will be applied.\n",
        "        is_project (bool, optional): whether to keep only the output labels.\n",
        "        kwargs:\n",
        "            Additional arguments to the compiler of the linear automata .\n",
        "    \"\"\"\n",
        "    linear_automata = linear_fst(elements, automata_op, **kwargs)\n",
        "    out = fst.compose(linear_automata, automata_op)\n",
        "    if is_project:\n",
        "        out.project(project_output=True)\n",
        "    return out\n",
        "\n",
        "def accepted(output_apply):\n",
        "    \"\"\"Given the output of `apply_fst` for acceptor, return True is sting was accepted.\"\"\"\n",
        "    return output_apply.num_states() != 0\n",
        "\n",
        "def spellout(inputString, inSymbols, inFST):\n",
        "\toutput=\"\"\n",
        "\tcurrentFST = apply_fst(list(inputString), inFST)\n",
        "\tfor state in currentFST.states():\n",
        "\t\tfor arc in currentFST.arcs(state):\n",
        "\t\t\tif (inSymbols.find(arc.olabel) != \"<eps>\"):\n",
        "\t\t\t\toutput += inSymbols.find(arc.olabel)\n",
        "\treturn output"
      ],
      "execution_count": 3,
      "outputs": []
    },
    {
      "cell_type": "markdown",
      "metadata": {
        "id": "QyfQ32-7Qmwq"
      },
      "source": [
        "Step 4: List of symbols for translation table\n",
        "\n",
        "You need to modify the list below to match the symbols you need. My advice would be:<br>\n",
        "(1) Draw the lattice on a piece of paper,<br>\n",
        "(2) Make a list of the transitions, and<br>\n",
        "(3) As you go through the transitions, include your symbols in the symbol list.\n",
        "\n",
        "Notice that the first symbol is the \"epsilon\", for when you expect empty strings."
      ]
    },
    {
      "cell_type": "code",
      "metadata": {
        "colab": {
          "base_uri": "https://localhost:8080/"
        },
        "id": "-XXDm8ieQpJ5",
        "outputId": "f57ab433-1f2a-4a5d-fa46-12e50fd35219"
      },
      "source": [
        "morphSymbols = fst.SymbolTable()\n",
        "morphSymbols.add_symbol(\"<eps>\", 0)\n",
        "morphSymbols.add_symbol(\"a\", 1) #no apostrophe\n",
        "morphSymbols.add_symbol(\"l\", 2)\n",
        "morphSymbols.add_symbol(\"e\", 3)\n",
        "morphSymbols.add_symbol(\"H\", 4)\n",
        "morphSymbols.add_symbol(\"-eH\", 5)\n",
        "morphSymbols.add_symbol(\"'\", 6) #apostrophe\n",
        "morphSymbols.add_symbol(\"o\", 7)\n",
        "morphSymbols.add_symbol(\"q\", 8)\n",
        "morphSymbols.add_symbol(\"F\", 9)\n",
        "morphSymbols.add_symbol(\"k\", 10)\n",
        "morphSymbols.add_symbol(\"<eps>\", 11)\n",
        "morphSymbols.add_symbol(\"-oqFk\", 13)\n",
        "morphSymbols.add_symbol(\"u\", 14)\n",
        "morphSymbols.add_symbol(\"x\", 15)\n",
        "morphSymbols.add_symbol(\"i\", 16) #no apostrophe\n",
        "morphSymbols.add_symbol(\"r\", 17)\n",
        "morphSymbols.add_symbol(\"-iHr\", 18)\n",
        "morphSymbols.add_symbol(\"-iHn\", 19)\n",
        "morphSymbols.add_symbol(\"n\", 20)\n",
        "morphSymbols.add_symbol(\"k\", 21)\n",
        "morphSymbols.add_symbol(\"-uxk\", 22)\n",
        "morphSymbols.add_symbol(\"-a'kux\", 23)\n",
        "morphSymbols.add_symbol(\"-ex\", 24)\n",
        "morphSymbols.add_symbol(\"-i'\", 25) #apostrophe\n",
        "\n",
        "morphSymbols.add_symbol(\"t\", 26) #no apostrophe\n",
        "morphSymbols.add_symbol(\"s\", 27)\n",
        "\n",
        "\n",
        "morphSymbols.add_symbol(\"b\", 28) #no apostrophe\n",
        "\n",
        "morphSymbols.add_symbol(\"pop-INF\", 29)\n",
        "morphSymbols.add_symbol(\"dig-INF\", 30)\n",
        "morphSymbols.add_symbol(\"-oqF\", 31)\n",
        "\n",
        "\n"
      ],
      "execution_count": 4,
      "outputs": [
        {
          "output_type": "execute_result",
          "data": {
            "text/plain": [
              "31"
            ]
          },
          "metadata": {
            "tags": []
          },
          "execution_count": 4
        }
      ]
    },
    {
      "cell_type": "code",
      "metadata": {
        "colab": {
          "base_uri": "https://localhost:8080/"
        },
        "id": "L1P-sn8rihrY",
        "outputId": "61265801-0feb-413e-ac23-ecbb89dcdce8"
      },
      "source": [
        "translateSymbols = fst.SymbolTable()\n",
        "translateSymbols.add_symbol(\"<eps>\", 0)\n",
        "translateSymbols.add_symbol(\"a\", 1) #no apostrophe\n",
        "translateSymbols.add_symbol(\"l\", 2)\n",
        "translateSymbols.add_symbol(\"e\", 3)\n",
        "translateSymbols.add_symbol(\"H\", 4)\n",
        "translateSymbols.add_symbol(\"'\", 5) #apostrophe\n",
        "translateSymbols.add_symbol(\"o\", 6)\n",
        "translateSymbols.add_symbol(\"q\", 7)\n",
        "translateSymbols.add_symbol(\"F\", 8)\n",
        "translateSymbols.add_symbol(\"k\", 9)\n",
        "translateSymbols.add_symbol(\"<eps>\", 10)\n",
        "translateSymbols.add_symbol(\"u\", 12)\n",
        "translateSymbols.add_symbol(\"x\", 13)\n",
        "translateSymbols.add_symbol(\"i\", 14) #no apostrophe\n",
        "translateSymbols.add_symbol(\"r\", 15)\n",
        "translateSymbols.add_symbol(\"n\", 16)\n",
        "translateSymbols.add_symbol(\"k\", 17)\n",
        "\n",
        "translateSymbols.add_symbol(\"THEME.MID-PFV.IMPROSP\", 18)\n",
        "translateSymbols.add_symbol(\"THEME.MID-INF\", 19)\n",
        "translateSymbols.add_symbol(\"THEME.MID.IPFV\", 20)\n",
        "translateSymbols.add_symbol(\"IMP\", 21)\n",
        "translateSymbols.add_symbol(\"INF\", 22)\n",
        "translateSymbols.add_symbol(\"IPFV\", 23)\n",
        "translateSymbols.add_symbol(\"THEME.PFV.IMPROSP\", 24)\n",
        "translateSymbols.add_symbol(\"DESIDERATIVE\", 25)\n",
        "\n",
        "translateSymbols.add_symbol(\"t\", 26) #no apostrophe\n",
        "translateSymbols.add_symbol(\"s\", 27)\n",
        "\n",
        "translateSymbols.add_symbol(\"b\", 28) #no apostrophe\n",
        "\n",
        "#translateSymbols.add_symbol(\"pop-INF\", 29)\n",
        "#translateSymbols.add_symbol(\"dig-INF\", 30)\n",
        "translateSymbols.add_symbol(\"cook-\", 31)\n",
        "translateSymbols.add_symbol(\"pop-\", 32)\n",
        "translateSymbols.add_symbol(\"dig-\", 33)\n"
      ],
      "execution_count": 5,
      "outputs": [
        {
          "output_type": "execute_result",
          "data": {
            "text/plain": [
              "33"
            ]
          },
          "metadata": {
            "tags": []
          },
          "execution_count": 5
        }
      ]
    },
    {
      "cell_type": "markdown",
      "metadata": {
        "id": "VJeCroBhQv7x"
      },
      "source": [
        "Step 5: Build the transitions of the FSTs. You need to modify the list below. This is where you would put the transitions and the end states of your FST."
      ]
    },
    {
      "cell_type": "code",
      "metadata": {
        "id": "M2obd1OwXiU7"
      },
      "source": [
        "compiler = fst.Compiler(isymbols=morphSymbols, osymbols=morphSymbols, keep_isymbols=True, keep_osymbols=True)\n",
        "\n",
        "# You do *not* need to comment every line. I put the comments below to\n",
        "# make the program clearer, but you do not need to comment in such detail.\n",
        "\n",
        "print(\"0 1 a a\",file=compiler)           # Transition from the start (state 0) to state 1. You get a 'a' and return a 'a'\n",
        "print(\"1 2 l l\",file=compiler)           # Transition from state 1 to state 2. You get an 'l' and return an 'l' --\n",
        "print(\"2 3 e <eps>\",file=compiler)           # Transition from state 2 to state 3. You get a 'e' and return a '<eps>'\n",
        "print(\"3 4 H -eH\",file=compiler)         # Transition from state 3 to state 4. You get an H and return the morpheme eH.\n",
        "print(\"4\",file=compiler)                 # State 4 is an end state. The FST finished recognizing the word \"al-eH\"       *FIRST END*\n",
        "print(\"2 5 i <eps>\",file=compiler)          # Transition from state 2 to state 5. You get an 'i'' and return \"i'\".\n",
        "print(\"5 6 ' -i'\",file=compiler)          # Transition from state 2 to state 5. You get an 'i'' and return \"i'\".\n",
        "print(\"6\",file=compiler)                 # State 5 is an end state. The FST finished recognizing the word \"ali'\" as \"al-i'\"  *SEDOND END*\n",
        "print(\"2 7 o <eps>\",file=compiler)           # Transition from state 2 to state 6. You get a 'o' and return a '<eps>'\n",
        "print(\"7 8 q <eps>\",file=compiler)           # Transition from state 6 to state 7. You get a 'q' and return a '<eps>'\n",
        "print(\"8 9 F <eps>\",file=compiler)           # Transition from state 7 to state 8. You get a 'F' and return a '<eps>'\n",
        "print(\"9 10 k -oqFk\",file=compiler)        # Transition from state 8 to state 9. You get an 'k' and return the morpheme oqFk\n",
        "print(\"10\",file=compiler)                 # State 9 is an end state. The FST finished recognizing the word \"al-oqFk\"     *THIRD END*\n",
        "print(\"9 11 <eps> -oqF\",file=compiler)         # Transition from state 8 to state 10. You get a '<eps>' and return '<eps>'\n",
        "print(\"11\",file=compiler)                # State 10 is an end state. The FST finished recognizing the word \"al-oqF\"     *FOURTH END*\n",
        "print(\"2 12 a <eps>\",file=compiler)          # Transition from state 2 to state 11. You get a 'a'' and return a '<eps>'\n",
        "print(\"12 13 ' <eps>\",file=compiler)          # Transition from state 2 to state 11. You get a 'a'' and return a '<eps>'\n",
        "print(\"13 14 k <eps>\",file=compiler)         # Transition from state 11 to state 12. You get a 'k' and return a '<eps>'\n",
        "print(\"14 15 u <eps>\",file=compiler)         # Transition from state 12 to state 13. You get a 'u' and return a '<eps>'\n",
        "print(\"15 16 x -a'kux\",file=compiler) \n",
        "print(\"16\",file=compiler)                #State 14 is an end state. THe word regocnized is \"al-a'kux\".                  *FIFTH END*\n",
        "print(\"2 17 i <eps>\",file=compiler)     # Transition from state 2 to state 15. You get a 'i' and return an epsilon\n",
        "print(\"17 18 H <eps>\",file=compiler)     # Transition from state 15 to state 16. You get a 'H' and return an epsilon\n",
        "print(\"18 19 r -iHr\",file=compiler)       # Transition from state 16 to state 17. You get an 'r' and return a \"iHr\"\n",
        "print(\"19\",file=compiler)                # State 17 is an end state. The FST finished recognizing the word \"al-iHr\"       *SIXTH END*\n",
        "print(\"18 20 n -iHn\",file=compiler)       # Transition from state 16 to state 18. You get an 'n' and return a \"iHn\"\n",
        "print(\"20 21 u <eps>\",file=compiler)       # Transition from state 18 to state 19. You get an 'u' and return a \"<eps>\"\n",
        "print(\"21 22 x <eps>\",file=compiler)       # Transition from state 19 to state 20. You get an 'x' and return a \"<eps>\"\n",
        "print(\"22 23 k -uxk\",file=compiler)       # Transition from state 20 to state 21. You get an 'k' and return a \"uxk\"\n",
        "print(\"23\",file=compiler)                # State 21 is an end state. The FST finished recognizing the word \"al-iHn-uxk\"   *SEVENTH END*\n",
        "print(\"20 24 e <eps>\",file=compiler)       # Transition from state 18 to state 22. You get an 'e' and return a \"<eps>\"\n",
        "print(\"24 25 x -ex\",file=compiler)       # Transition from state 22 to state 23. You get an 'x' and return a \"ex\"\n",
        "print(\"25\",file=compiler)                # State 23 is an end state. The FST finished recognizing the word \"al-iHn-ex\"  *EIGHTH END*\n",
        "\n",
        "\n",
        "print(\"0 26 t t\",file=compiler)           # Transition from the start (state 0) to state 24. You get a 't' and return a 't'\n",
        "print(\"26 27 s s\",file=compiler)           # Transition from the start (state 24) to state 25. You get a 's' and return a 's'\n",
        "print(\"27 28 a a\",file=compiler)           # Transition from the start (state 25) to state 26. You get a 'a' and return a 'a'\n",
        "print(\"28 29 k k\",file=compiler)           # Transition from the start (state 26) to state 27. You get a 'k' and return a 'k'\n",
        "print(\"29 7 o <eps>\",file=compiler)           # Transition from the start (state 27) to state 6. You get a '0' and return a '<eps>'\n",
        "#print(\"9 30 k <eps>\",file=compiler)           # Transition from the start (state 27) to state 6. You get a '0' and return a '<eps>'\n",
        "#print(\"30\", file=compiler) \n",
        "\n",
        "\n",
        "\n",
        "\n",
        "print(\"0 31 b b\",file=compiler)           # Transition from the start (state 0) to state 28. You get a 'b' and return a 'b'\n",
        "print(\"31 32 i i\",file=compiler)           # Transition from the start (state 28) to state 29. You get a 'i' and return a 'i'\n",
        "print(\"32 7 o <eps>\",file=compiler)  \n",
        "#print(\"9 33 k <eps>\",file=compiler)           # Transition from the start (state 27) to state 6. You get a '0' and return a '<eps>'\n",
        "#print(\"33\", file=compiler)         \n",
        "\n",
        "\n",
        "\n",
        "morphFST = compiler.compile()"
      ],
      "execution_count": 6,
      "outputs": []
    },
    {
      "cell_type": "code",
      "metadata": {
        "id": "sr14gulWoOue"
      },
      "source": [
        "compiler = fst.Compiler(isymbols=translateSymbols, osymbols=translateSymbols, keep_isymbols=True, keep_osymbols=True)\n",
        "\n",
        "# You do *not* need to comment every line. I put the comments below to\n",
        "# make the program clearer, but you do not need to comment in such detail.\n",
        "\n",
        "print(\"0 1 a <eps>\",file=compiler)           # Transition from the start (state 0) to state 1. You get a 'a' and return a 'a'\n",
        "print(\"1 2 l cook-\",file=compiler)           # Transition from state 1 to state 2. You get an 'l' and return an 'l' --\n",
        "print(\"2 3 e <eps>\",file=compiler)           # Transition from state 2 to state 3. You get a 'e' and return a '<eps>'\n",
        "print(\"3 4 H IPFV\",file=compiler)         # Transition from state 3 to state 4. You get an H and return the morpheme eH.\n",
        "print(\"4\",file=compiler)                 # State 4 is an end state. The FST finished recognizing the word \"al-eH\"       *FIRST END*\n",
        "print(\"2 5 i <eps>\",file=compiler)          # Transition from state 2 to state 5. You get an 'i'' and return \"i'\".\n",
        "print(\"5 6 ' THEME.PFV.IMPROSP\",file=compiler)          # Transition from state 2 to state 5. You get an 'i'' and return \"i'\".\n",
        "print(\"6\",file=compiler)                 # State 5 is an end state. The FST finished recognizing the word \"ali'\" as \"al-i'\"  *SEDOND END*\n",
        "print(\"2 7 o <eps>\",file=compiler)           # Transition from state 2 to state 6. You get a 'o' and return a '<eps>'\n",
        "print(\"7 8 q <eps>\",file=compiler)           # Transition from state 6 to state 7. You get a 'q' and return a '<eps>'\n",
        "print(\"8 9 F <eps>\",file=compiler)           # Transition from state 7 to state 8. You get a 'F' and return a '<eps>'\n",
        "print(\"9 10 k INF\",file=compiler)        # Transition from state 8 to state 9. You get an 'k' and return the morpheme oqFk\n",
        "print(\"10\",file=compiler)                 # State 9 is an end state. The FST finished recognizing the word \"al-oqFk\"     *THIRD END*\n",
        "print(\"9 11 <eps> IMP\",file=compiler)         # Transition from state 8 to state 10. You get a '<eps>' and return '<eps>'\n",
        "print(\"11\",file=compiler)                # State 10 is an end state. The FST finished recognizing the word \"al-oqF\"     *FOURTH END*\n",
        "print(\"2 12 a <eps>\",file=compiler)          # Transition from state 2 to state 11. You get a 'a'' and return a '<eps>'\n",
        "print(\"12 13 ' <eps>\",file=compiler)          # Transition from state 2 to state 11. You get a 'a'' and return a '<eps>'\n",
        "print(\"13 14 k <eps>\",file=compiler)         # Transition from state 11 to state 12. You get a 'k' and return a '<eps>'\n",
        "print(\"14 15 u <eps>\",file=compiler)         # Transition from state 12 to state 13. You get a 'u' and return a '<eps>'\n",
        "print(\"15 16 x DESIDERATIVE\",file=compiler) \n",
        "print(\"16\",file=compiler)                #State 14 is an end state. THe word regocnized is \"al-a'kux\".                  *FIFTH END*\n",
        "print(\"2 17 i <eps>\",file=compiler)     # Transition from state 2 to state 15. You get a 'i' and return an epsilon\n",
        "print(\"17 18 H <eps>\",file=compiler)     # Transition from state 15 to state 16. You get a 'H' and return an epsilon\n",
        "print(\"18 19 r THEME.MID.IPFV\",file=compiler)       # Transition from state 16 to state 17. You get an 'r' and return a \"iHr\"\n",
        "print(\"19\",file=compiler)                # State 17 is an end state. The FST finished recognizing the word \"al-iHr\"       *SIXTH END*\n",
        "print(\"18 20 n <eps>\",file=compiler)       # Transition from state 16 to state 18. You get an 'n' and return a \"iHn\"\n",
        "print(\"20 21 u <eps>\",file=compiler)       # Transition from state 18 to state 19. You get an 'u' and return a \"<eps>\"\n",
        "print(\"21 22 x <eps>\",file=compiler)       # Transition from state 19 to state 20. You get an 'x' and return a \"<eps>\"\n",
        "print(\"22 23 k THEME.MID-INF\",file=compiler)       # Transition from state 20 to state 21. You get an 'k' and return a \"uxk\"\n",
        "print(\"23\",file=compiler)                # State 21 is an end state. The FST finished recognizing the word \"al-iHn-uxk\"   *SEVENTH END*\n",
        "print(\"20 24 e <eps>\",file=compiler)       # Transition from state 18 to state 22. You get an 'e' and return a \"<eps>\"\n",
        "print(\"24 25 x THEME.MID-PFV.IMPROSP\",file=compiler)       # Transition from state 22 to state 23. You get an 'x' and return a \"ex\"\n",
        "print(\"25\",file=compiler)                # State 23 is an end state. The FST finished recognizing the word \"al-iHn-ex\"  *EIGHTH END*\n",
        "\n",
        "\n",
        "print(\"0 26 t <eps>\",file=compiler)           # Transition from the start (state 0) to state 24. You get a 't' and return a 't'\n",
        "print(\"26 27 s <eps>\",file=compiler)           # Transition from the start (state 24) to state 25. You get a 's' and return a 's'\n",
        "print(\"27 28 a <eps>\",file=compiler)           # Transition from the start (state 25) to state 26. You get a 'a' and return a 'a'\n",
        "print(\"28 29 k pop-\",file=compiler)           # Transition from the start (state 26) to state 27. You get a 'k' and return a 'k'\n",
        "print(\"29 7 o <eps>\",file=compiler)           # Transition from the start (state 27) to state 6. You get a '0' and return a '<eps>'\n",
        "#print(\"9 30 k <eps>\",file=compiler)           # Transition from the start (state 27) to state 6. You get a '0' and return a '<eps>'\n",
        "#print(\"30\", file=compiler) \n",
        "\n",
        "\n",
        "\n",
        "\n",
        "print(\"0 31 b <eps>\",file=compiler)           # Transition from the start (state 0) to state 28. You get a 'b' and return a 'b'\n",
        "print(\"31 32 i dig-\",file=compiler)           # Transition from the start (state 28) to state 29. You get a 'i' and return a 'i'\n",
        "print(\"32 7 o <eps>\",file=compiler)  \n",
        "#print(\"9 33 k <eps>\",file=compiler)           # Transition from the start (state 27) to state 6. You get a '0' and return a '<eps>'\n",
        "#print(\"33\", file=compiler)           \n",
        "\n",
        "\n",
        "translateFST = compiler.compile()"
      ],
      "execution_count": 7,
      "outputs": []
    },
    {
      "cell_type": "markdown",
      "metadata": {
        "id": "P92wpbQxRCR5"
      },
      "source": [
        "Step 6: The following are examples for you to see the instructions involved in the morphological analysis. You can uncomment each block to see how it behaves."
      ]
    },
    {
      "cell_type": "code",
      "metadata": {
        "colab": {
          "base_uri": "https://localhost:8080/"
        },
        "id": "Mp6MqybZRFBq",
        "outputId": "bbf48148-89fd-415e-e47e-6c2f9bfa6120"
      },
      "source": [
        "\n",
        "\n",
        "\n",
        "word = \"aleH\"\n",
        "splitWord = spellout(word, morphSymbols, morphFST)\n",
        "wordMorphemes = spellout(word, translateSymbols, translateFST)\n",
        "print(word + \"\\n\" + splitWord + \"\\n\" + wordMorphemes + \"\\n\")\n",
        "\n",
        "word = \"ali'\"\n",
        "splitWord = spellout(word, morphSymbols, morphFST)\n",
        "wordMorphemes = spellout(word, translateSymbols, translateFST)\n",
        "print(word + \"\\n\" + splitWord + \"\\n\" + wordMorphemes + \"\\n\")\n",
        "\n",
        "word = \"aloqFk\"\n",
        "splitWord = spellout(word, morphSymbols, morphFST)\n",
        "wordMorphemes = spellout(word, translateSymbols, translateFST)\n",
        "print(word + \"\\n\" + splitWord + \"\\n\" + wordMorphemes + \"\\n\")\n",
        "\n",
        "word = \"aloqF\"\n",
        "splitWord = spellout(word, morphSymbols, morphFST)\n",
        "wordMorphemes = spellout(word, translateSymbols, translateFST)\n",
        "print(word + \"\\n\" + splitWord + \"\\n\" + wordMorphemes + \"\\n\")\n",
        "\n",
        "word = \"ala'kux\"\n",
        "splitWord = spellout(word, morphSymbols, morphFST)\n",
        "wordMorphemes = spellout(word, translateSymbols, translateFST)\n",
        "print(word + \"\\n\" + splitWord + \"\\n\" + wordMorphemes + \"\\n\")\n",
        "\n",
        "word = \"aliHr\"\n",
        "splitWord = spellout(word, morphSymbols, morphFST)\n",
        "wordMorphemes = spellout(word, translateSymbols, translateFST)\n",
        "print(word + \"\\n\" + splitWord + \"\\n\" + wordMorphemes + \"\\n\")\n",
        "\n",
        "word = \"aliHnex\"\n",
        "splitWord = spellout(word, morphSymbols, morphFST)\n",
        "wordMorphemes = spellout(word, translateSymbols, translateFST)\n",
        "print(word + \"\\n\" + splitWord + \"\\n\" + wordMorphemes + \"\\n\")\n",
        "\n",
        "word = \"aliHnuxk\"\n",
        "splitWord = spellout(word, morphSymbols, morphFST)\n",
        "wordMorphemes = spellout(word, translateSymbols, translateFST)\n",
        "print(word + \"\\n\" + splitWord + \"\\n\" + wordMorphemes + \"\\n\")\n",
        "\n",
        "word = \"tsakoqFk\"\n",
        "splitWord = spellout(word, morphSymbols, morphFST)\n",
        "wordMorphemes = spellout(word, translateSymbols, translateFST)\n",
        "print(word + \"\\n\" + splitWord + \"\\n\" + wordMorphemes + \"\\n\")\n",
        "\n",
        "word = \"bioqFk\"\n",
        "splitWord = spellout(word, morphSymbols, morphFST)\n",
        "wordMorphemes = spellout(word, translateSymbols, translateFST)\n",
        "print(word + \"\\n\" + splitWord + \"\\n\" + wordMorphemes + \"\\n\")\n",
        "\n",
        "\n"
      ],
      "execution_count": 8,
      "outputs": [
        {
          "output_type": "stream",
          "text": [
            "aleH\n",
            "al-eH\n",
            "cook-IPFV\n",
            "\n",
            "ali'\n",
            "al-i'\n",
            "cook-THEME.PFV.IMPROSP\n",
            "\n",
            "aloqFk\n",
            "al-oqFk\n",
            "cook-INF\n",
            "\n",
            "aloqF\n",
            "al-oqF\n",
            "cook-IMP\n",
            "\n",
            "ala'kux\n",
            "al-a'kux\n",
            "cook-DESIDERATIVE\n",
            "\n",
            "aliHr\n",
            "al-iHr\n",
            "cook-THEME.MID.IPFV\n",
            "\n",
            "aliHnex\n",
            "al-iHn-ex\n",
            "cook-THEME.MID-PFV.IMPROSP\n",
            "\n",
            "aliHnuxk\n",
            "al-iHn-uxk\n",
            "cook-THEME.MID-INF\n",
            "\n",
            "tsakoqFk\n",
            "tsak-oqFk\n",
            "pop-INF\n",
            "\n",
            "bioqFk\n",
            "bi-oqFk\n",
            "dig-INF\n",
            "\n"
          ],
          "name": "stdout"
        }
      ]
    },
    {
      "cell_type": "markdown",
      "metadata": {
        "id": "WTy2OkDTRLcB"
      },
      "source": [
        "Step 7: Draw the FST transitions for the translation graph"
      ]
    },
    {
      "cell_type": "code",
      "metadata": {
        "colab": {
          "base_uri": "https://localhost:8080/",
          "height": 245
        },
        "id": "BakWBDEjRMuh",
        "outputId": "b7bd2e1c-9806-4481-9cb8-b94f539ff881"
      },
      "source": [
        "translateFST.draw(\"translate.gv\")\n",
        "translateFST"
      ],
      "execution_count": 9,
      "outputs": [
        {
          "output_type": "execute_result",
          "data": {
            "text/plain": [
              "<vector Fst at 0x7f3335f156f0>"
            ],
            "image/svg+xml": "<?xml version=\"1.0\" encoding=\"UTF-8\" standalone=\"no\"?>\n<!DOCTYPE svg PUBLIC \"-//W3C//DTD SVG 1.1//EN\"\n \"http://www.w3.org/Graphics/SVG/1.1/DTD/svg11.dtd\">\n<!-- Generated by graphviz version 2.40.1 (20161225.0304)\n -->\n<!-- Title: FST Pages: 1 -->\n<svg width=\"612pt\" height=\"168pt\"\n viewBox=\"0.00 0.00 612.00 167.81\" xmlns=\"http://www.w3.org/2000/svg\" xmlns:xlink=\"http://www.w3.org/1999/xlink\">\n<g id=\"graph0\" class=\"graph\" transform=\"scale(.4318 .4318) rotate(0) translate(4 384.5963)\">\n<title>FST</title>\n<polygon fill=\"#ffffff\" stroke=\"transparent\" points=\"-4,4 -4,-384.5963 1413.1742,-384.5963 1413.1742,4 -4,4\"/>\n<!-- 0 -->\n<g id=\"node1\" class=\"node\">\n<title>0</title>\n<ellipse fill=\"none\" stroke=\"#000000\" stroke-width=\"2\" cx=\"18\" cy=\"-74.7982\" rx=\"18\" ry=\"18\"/>\n<text text-anchor=\"middle\" x=\"18\" y=\"-71.0982\" font-family=\"Times,serif\" font-size=\"14.00\" fill=\"#000000\">0</text>\n</g>\n<!-- 1 -->\n<g id=\"node2\" class=\"node\">\n<title>1</title>\n<ellipse fill=\"none\" stroke=\"#000000\" cx=\"133.7982\" cy=\"-161.7982\" rx=\"18\" ry=\"18\"/>\n<text text-anchor=\"middle\" x=\"133.7982\" y=\"-158.0982\" font-family=\"Times,serif\" font-size=\"14.00\" fill=\"#000000\">1</text>\n</g>\n<!-- 0&#45;&gt;1 -->\n<g id=\"edge1\" class=\"edge\">\n<title>0&#45;&gt;1</title>\n<path fill=\"none\" stroke=\"#000000\" d=\"M32.6659,-85.8168C52.4169,-100.6559 87.7624,-127.2112 110.9971,-144.6676\"/>\n<polygon fill=\"#000000\" stroke=\"#000000\" points=\"109.154,-147.6605 119.2513,-150.869 113.3587,-142.064 109.154,-147.6605\"/>\n<text text-anchor=\"middle\" x=\"74.5\" y=\"-137.5982\" font-family=\"Times,serif\" font-size=\"14.00\" fill=\"#000000\">a:&lt;eps&gt;</text>\n</g>\n<!-- 26 -->\n<g id=\"node3\" class=\"node\">\n<title>26</title>\n<ellipse fill=\"none\" stroke=\"#000000\" cx=\"133.7982\" cy=\"-74.7982\" rx=\"20.5982\" ry=\"20.5982\"/>\n<text text-anchor=\"middle\" x=\"133.7982\" y=\"-71.0982\" font-family=\"Times,serif\" font-size=\"14.00\" fill=\"#000000\">26</text>\n</g>\n<!-- 0&#45;&gt;26 -->\n<g id=\"edge2\" class=\"edge\">\n<title>0&#45;&gt;26</title>\n<path fill=\"none\" stroke=\"#000000\" d=\"M36.0935,-74.7982C53.8331,-74.7982 81.2355,-74.7982 102.511,-74.7982\"/>\n<polygon fill=\"#000000\" stroke=\"#000000\" points=\"102.6937,-78.2983 112.6936,-74.7982 102.6936,-71.2983 102.6937,-78.2983\"/>\n<text text-anchor=\"middle\" x=\"74.5\" y=\"-78.5982\" font-family=\"Times,serif\" font-size=\"14.00\" fill=\"#000000\">t:&lt;eps&gt;</text>\n</g>\n<!-- 30 -->\n<g id=\"node4\" class=\"node\">\n<title>30</title>\n<ellipse fill=\"none\" stroke=\"#000000\" cx=\"192.0963\" cy=\"-21.7982\" rx=\"20.5982\" ry=\"20.5982\"/>\n<text text-anchor=\"middle\" x=\"192.0963\" y=\"-18.0982\" font-family=\"Times,serif\" font-size=\"14.00\" fill=\"#000000\">30</text>\n</g>\n<!-- 0&#45;&gt;30 -->\n<g id=\"edge3\" class=\"edge\">\n<title>0&#45;&gt;30</title>\n<path fill=\"none\" stroke=\"#000000\" d=\"M33.3175,-64.7617C38.7357,-61.5446 44.9821,-58.1978 51,-55.7982 87.6872,-41.1689 132.3463,-31.7076 161.4602,-26.5703\"/>\n<polygon fill=\"#000000\" stroke=\"#000000\" points=\"162.1686,-30.0001 171.4395,-24.8717 160.9939,-23.0994 162.1686,-30.0001\"/>\n<text text-anchor=\"middle\" x=\"74.5\" y=\"-59.5982\" font-family=\"Times,serif\" font-size=\"14.00\" fill=\"#000000\">b:&lt;eps&gt;</text>\n</g>\n<!-- 2 -->\n<g id=\"node5\" class=\"node\">\n<title>2</title>\n<ellipse fill=\"none\" stroke=\"#000000\" cx=\"250.3945\" cy=\"-195.7982\" rx=\"18\" ry=\"18\"/>\n<text text-anchor=\"middle\" x=\"250.3945\" y=\"-192.0982\" font-family=\"Times,serif\" font-size=\"14.00\" fill=\"#000000\">2</text>\n</g>\n<!-- 1&#45;&gt;2 -->\n<g id=\"edge4\" class=\"edge\">\n<title>1&#45;&gt;2</title>\n<path fill=\"none\" stroke=\"#000000\" d=\"M151.2538,-166.8883C170.2294,-172.4217 200.8065,-181.3381 222.9905,-187.807\"/>\n<polygon fill=\"#000000\" stroke=\"#000000\" points=\"222.2395,-191.2338 232.8195,-190.6732 224.1992,-184.5136 222.2395,-191.2338\"/>\n<text text-anchor=\"middle\" x=\"192.0963\" y=\"-189.5982\" font-family=\"Times,serif\" font-size=\"14.00\" fill=\"#000000\">l:cook&#45;</text>\n</g>\n<!-- 27 -->\n<g id=\"node29\" class=\"node\">\n<title>27</title>\n<ellipse fill=\"none\" stroke=\"#000000\" cx=\"250.3945\" cy=\"-74.7982\" rx=\"20.5982\" ry=\"20.5982\"/>\n<text text-anchor=\"middle\" x=\"250.3945\" y=\"-71.0982\" font-family=\"Times,serif\" font-size=\"14.00\" fill=\"#000000\">27</text>\n</g>\n<!-- 26&#45;&gt;27 -->\n<g id=\"edge28\" class=\"edge\">\n<title>26&#45;&gt;27</title>\n<path fill=\"none\" stroke=\"#000000\" d=\"M154.6432,-74.7982C172.6042,-74.7982 198.7901,-74.7982 219.2397,-74.7982\"/>\n<polygon fill=\"#000000\" stroke=\"#000000\" points=\"219.3368,-78.2983 229.3367,-74.7982 219.3367,-71.2983 219.3368,-78.2983\"/>\n<text text-anchor=\"middle\" x=\"192.0963\" y=\"-78.5982\" font-family=\"Times,serif\" font-size=\"14.00\" fill=\"#000000\">s:&lt;eps&gt;</text>\n</g>\n<!-- 31 -->\n<g id=\"node32\" class=\"node\">\n<title>31</title>\n<ellipse fill=\"none\" stroke=\"#000000\" cx=\"309.1926\" cy=\"-20.7982\" rx=\"20.5982\" ry=\"20.5982\"/>\n<text text-anchor=\"middle\" x=\"309.1926\" y=\"-17.0982\" font-family=\"Times,serif\" font-size=\"14.00\" fill=\"#000000\">31</text>\n</g>\n<!-- 30&#45;&gt;31 -->\n<g id=\"edge32\" class=\"edge\">\n<title>30&#45;&gt;31</title>\n<path fill=\"none\" stroke=\"#000000\" d=\"M213.0308,-21.6194C231.0688,-21.4653 257.367,-21.2407 277.9043,-21.0654\"/>\n<polygon fill=\"#000000\" stroke=\"#000000\" points=\"278.0749,-24.5641 288.0446,-20.9788 278.015,-17.5644 278.0749,-24.5641\"/>\n<text text-anchor=\"middle\" x=\"250.3945\" y=\"-25.5982\" font-family=\"Times,serif\" font-size=\"14.00\" fill=\"#000000\">i:dig&#45;</text>\n</g>\n<!-- 3 -->\n<g id=\"node6\" class=\"node\">\n<title>3</title>\n<ellipse fill=\"none\" stroke=\"#000000\" cx=\"367.9908\" cy=\"-228.7982\" rx=\"18\" ry=\"18\"/>\n<text text-anchor=\"middle\" x=\"367.9908\" y=\"-225.0982\" font-family=\"Times,serif\" font-size=\"14.00\" fill=\"#000000\">3</text>\n</g>\n<!-- 2&#45;&gt;3 -->\n<g id=\"edge5\" class=\"edge\">\n<title>2&#45;&gt;3</title>\n<path fill=\"none\" stroke=\"#000000\" d=\"M267.7462,-200.6674C287.0268,-206.078 318.405,-214.8833 340.9214,-221.2019\"/>\n<polygon fill=\"#000000\" stroke=\"#000000\" points=\"339.9941,-224.5768 350.5678,-223.9089 341.8854,-217.8372 339.9941,-224.5768\"/>\n<text text-anchor=\"middle\" x=\"309.1926\" y=\"-221.5982\" font-family=\"Times,serif\" font-size=\"14.00\" fill=\"#000000\">e:&lt;eps&gt;</text>\n</g>\n<!-- 5 -->\n<g id=\"node7\" class=\"node\">\n<title>5</title>\n<ellipse fill=\"none\" stroke=\"#000000\" cx=\"367.9908\" cy=\"-172.7982\" rx=\"18\" ry=\"18\"/>\n<text text-anchor=\"middle\" x=\"367.9908\" y=\"-169.0982\" font-family=\"Times,serif\" font-size=\"14.00\" fill=\"#000000\">5</text>\n</g>\n<!-- 2&#45;&gt;5 -->\n<g id=\"edge6\" class=\"edge\">\n<title>2&#45;&gt;5</title>\n<path fill=\"none\" stroke=\"#000000\" d=\"M267.8117,-191.1339C273.6341,-189.6511 280.1731,-188.068 286.1926,-186.7982 303.9464,-183.0529 324.0283,-179.6044 339.8512,-177.0671\"/>\n<polygon fill=\"#000000\" stroke=\"#000000\" points=\"340.7095,-180.4752 350.044,-175.4637 339.6216,-173.5603 340.7095,-180.4752\"/>\n<text text-anchor=\"middle\" x=\"309.1926\" y=\"-190.5982\" font-family=\"Times,serif\" font-size=\"14.00\" fill=\"#000000\">i:&lt;eps&gt;</text>\n</g>\n<!-- 7 -->\n<g id=\"node8\" class=\"node\">\n<title>7</title>\n<ellipse fill=\"none\" stroke=\"#000000\" cx=\"795.5871\" cy=\"-69.7982\" rx=\"18\" ry=\"18\"/>\n<text text-anchor=\"middle\" x=\"795.5871\" y=\"-66.0982\" font-family=\"Times,serif\" font-size=\"14.00\" fill=\"#000000\">7</text>\n</g>\n<!-- 2&#45;&gt;7 -->\n<g id=\"edge7\" class=\"edge\">\n<title>2&#45;&gt;7</title>\n<path fill=\"none\" stroke=\"#000000\" d=\"M265.3989,-185.7867C283.812,-174.0496 316.3912,-155.0298 347.1926,-145.7982 522.8304,-93.1569 580.1941,-141.5825 755.7889,-88.7982 760.6649,-87.3324 765.6932,-85.3461 770.4656,-83.2086\"/>\n<polygon fill=\"#000000\" stroke=\"#000000\" points=\"772.2805,-86.2193 779.7715,-78.7269 769.2432,-79.9125 772.2805,-86.2193\"/>\n<text text-anchor=\"middle\" x=\"479.7889\" y=\"-134.5982\" font-family=\"Times,serif\" font-size=\"14.00\" fill=\"#000000\">o:&lt;eps&gt;</text>\n</g>\n<!-- 12 -->\n<g id=\"node9\" class=\"node\">\n<title>12</title>\n<ellipse fill=\"none\" stroke=\"#000000\" cx=\"367.9908\" cy=\"-350.7982\" rx=\"20.5982\" ry=\"20.5982\"/>\n<text text-anchor=\"middle\" x=\"367.9908\" y=\"-347.0982\" font-family=\"Times,serif\" font-size=\"14.00\" fill=\"#000000\">12</text>\n</g>\n<!-- 2&#45;&gt;12 -->\n<g id=\"edge8\" class=\"edge\">\n<title>2&#45;&gt;12</title>\n<path fill=\"none\" stroke=\"#000000\" d=\"M254.4003,-213.6072C259.4149,-233.0311 269.4452,-264.3436 286.1926,-286.7982 300.9725,-306.6146 323.3826,-323.5618 341.0111,-335.0294\"/>\n<polygon fill=\"#000000\" stroke=\"#000000\" points=\"339.3999,-338.1507 349.7281,-340.5128 343.1272,-332.2256 339.3999,-338.1507\"/>\n<text text-anchor=\"middle\" x=\"309.1926\" y=\"-331.5982\" font-family=\"Times,serif\" font-size=\"14.00\" fill=\"#000000\">a:&lt;eps&gt;</text>\n</g>\n<!-- 17 -->\n<g id=\"node10\" class=\"node\">\n<title>17</title>\n<ellipse fill=\"none\" stroke=\"#000000\" cx=\"367.9908\" cy=\"-288.7982\" rx=\"20.5982\" ry=\"20.5982\"/>\n<text text-anchor=\"middle\" x=\"367.9908\" y=\"-285.0982\" font-family=\"Times,serif\" font-size=\"14.00\" fill=\"#000000\">17</text>\n</g>\n<!-- 2&#45;&gt;17 -->\n<g id=\"edge9\" class=\"edge\">\n<title>2&#45;&gt;17</title>\n<path fill=\"none\" stroke=\"#000000\" d=\"M261.412,-210.3875C268.0677,-218.6673 277.0172,-228.9173 286.1926,-236.7982 302.8394,-251.0963 323.7521,-264.3209 340.265,-273.8555\"/>\n<polygon fill=\"#000000\" stroke=\"#000000\" points=\"338.9852,-277.1523 349.4135,-279.0231 342.4279,-271.0574 338.9852,-277.1523\"/>\n<text text-anchor=\"middle\" x=\"309.1926\" y=\"-271.5982\" font-family=\"Times,serif\" font-size=\"14.00\" fill=\"#000000\">i:&lt;eps&gt;</text>\n</g>\n<!-- 4 -->\n<g id=\"node11\" class=\"node\">\n<title>4</title>\n<ellipse fill=\"none\" stroke=\"#000000\" cx=\"592.7889\" cy=\"-230.7982\" rx=\"18\" ry=\"18\"/>\n<ellipse fill=\"none\" stroke=\"#000000\" cx=\"592.7889\" cy=\"-230.7982\" rx=\"22\" ry=\"22\"/>\n<text text-anchor=\"middle\" x=\"592.7889\" y=\"-227.0982\" font-family=\"Times,serif\" font-size=\"14.00\" fill=\"#000000\">4</text>\n</g>\n<!-- 3&#45;&gt;4 -->\n<g id=\"edge10\" class=\"edge\">\n<title>3&#45;&gt;4</title>\n<path fill=\"none\" stroke=\"#000000\" d=\"M386.0069,-228.9584C423.9766,-229.2963 512.6589,-230.0852 560.6229,-230.512\"/>\n<polygon fill=\"#000000\" stroke=\"#000000\" points=\"560.7364,-234.013 570.7672,-230.6022 560.7988,-227.0133 560.7364,-234.013\"/>\n<text text-anchor=\"middle\" x=\"479.7889\" y=\"-233.5982\" font-family=\"Times,serif\" font-size=\"14.00\" fill=\"#000000\">H:IPFV</text>\n</g>\n<!-- 6 -->\n<g id=\"node12\" class=\"node\">\n<title>6</title>\n<ellipse fill=\"none\" stroke=\"#000000\" cx=\"592.7889\" cy=\"-168.7982\" rx=\"18\" ry=\"18\"/>\n<ellipse fill=\"none\" stroke=\"#000000\" cx=\"592.7889\" cy=\"-168.7982\" rx=\"22\" ry=\"22\"/>\n<text text-anchor=\"middle\" x=\"592.7889\" y=\"-165.0982\" font-family=\"Times,serif\" font-size=\"14.00\" fill=\"#000000\">6</text>\n</g>\n<!-- 5&#45;&gt;6 -->\n<g id=\"edge11\" class=\"edge\">\n<title>5&#45;&gt;6</title>\n<path fill=\"none\" stroke=\"#000000\" d=\"M386.0069,-172.4776C423.9766,-171.802 512.6589,-170.224 560.6229,-169.3705\"/>\n<polygon fill=\"#000000\" stroke=\"#000000\" points=\"560.8311,-172.8675 570.7672,-169.19 560.7065,-165.8686 560.8311,-172.8675\"/>\n<text text-anchor=\"middle\" x=\"479.7889\" y=\"-176.5982\" font-family=\"Times,serif\" font-size=\"14.00\" fill=\"#000000\">&#39;:THEME.PFV.IMPROSP</text>\n</g>\n<!-- 8 -->\n<g id=\"node13\" class=\"node\">\n<title>8</title>\n<ellipse fill=\"none\" stroke=\"#000000\" cx=\"918.1834\" cy=\"-69.7982\" rx=\"18\" ry=\"18\"/>\n<text text-anchor=\"middle\" x=\"918.1834\" y=\"-66.0982\" font-family=\"Times,serif\" font-size=\"14.00\" fill=\"#000000\">8</text>\n</g>\n<!-- 7&#45;&gt;8 -->\n<g id=\"edge12\" class=\"edge\">\n<title>7&#45;&gt;8</title>\n<path fill=\"none\" stroke=\"#000000\" d=\"M813.6766,-69.7982C833.777,-69.7982 866.4893,-69.7982 889.963,-69.7982\"/>\n<polygon fill=\"#000000\" stroke=\"#000000\" points=\"890.0197,-73.2983 900.0197,-69.7982 890.0196,-66.2983 890.0197,-73.2983\"/>\n<text text-anchor=\"middle\" x=\"858.8852\" y=\"-73.5982\" font-family=\"Times,serif\" font-size=\"14.00\" fill=\"#000000\">q:&lt;eps&gt;</text>\n</g>\n<!-- 13 -->\n<g id=\"node17\" class=\"node\">\n<title>13</title>\n<ellipse fill=\"none\" stroke=\"#000000\" cx=\"592.7889\" cy=\"-353.7982\" rx=\"20.5982\" ry=\"20.5982\"/>\n<text text-anchor=\"middle\" x=\"592.7889\" y=\"-350.0982\" font-family=\"Times,serif\" font-size=\"14.00\" fill=\"#000000\">13</text>\n</g>\n<!-- 12&#45;&gt;13 -->\n<g id=\"edge16\" class=\"edge\">\n<title>12&#45;&gt;13</title>\n<path fill=\"none\" stroke=\"#000000\" d=\"M389.1392,-351.0804C428.9891,-351.6122 515.3546,-352.7648 561.7795,-353.3843\"/>\n<polygon fill=\"#000000\" stroke=\"#000000\" points=\"561.8146,-356.885 571.8604,-353.5189 561.9081,-349.8856 561.8146,-356.885\"/>\n<text text-anchor=\"middle\" x=\"479.7889\" y=\"-356.5982\" font-family=\"Times,serif\" font-size=\"14.00\" fill=\"#000000\">&#39;:&lt;eps&gt;</text>\n</g>\n<!-- 18 -->\n<g id=\"node21\" class=\"node\">\n<title>18</title>\n<ellipse fill=\"none\" stroke=\"#000000\" cx=\"592.7889\" cy=\"-291.7982\" rx=\"20.5982\" ry=\"20.5982\"/>\n<text text-anchor=\"middle\" x=\"592.7889\" y=\"-288.0982\" font-family=\"Times,serif\" font-size=\"14.00\" fill=\"#000000\">18</text>\n</g>\n<!-- 17&#45;&gt;18 -->\n<g id=\"edge20\" class=\"edge\">\n<title>17&#45;&gt;18</title>\n<path fill=\"none\" stroke=\"#000000\" d=\"M389.1392,-289.0804C428.9891,-289.6122 515.3546,-290.7648 561.7795,-291.3843\"/>\n<polygon fill=\"#000000\" stroke=\"#000000\" points=\"561.8146,-294.885 571.8604,-291.5189 561.9081,-287.8856 561.8146,-294.885\"/>\n<text text-anchor=\"middle\" x=\"479.7889\" y=\"-294.5982\" font-family=\"Times,serif\" font-size=\"14.00\" fill=\"#000000\">H:&lt;eps&gt;</text>\n</g>\n<!-- 9 -->\n<g id=\"node14\" class=\"node\">\n<title>9</title>\n<ellipse fill=\"none\" stroke=\"#000000\" cx=\"1183.7797\" cy=\"-69.7982\" rx=\"18\" ry=\"18\"/>\n<text text-anchor=\"middle\" x=\"1183.7797\" y=\"-66.0982\" font-family=\"Times,serif\" font-size=\"14.00\" fill=\"#000000\">9</text>\n</g>\n<!-- 8&#45;&gt;9 -->\n<g id=\"edge13\" class=\"edge\">\n<title>8&#45;&gt;9</title>\n<path fill=\"none\" stroke=\"#000000\" d=\"M936.4389,-69.7982C982.0365,-69.7982 1101.1578,-69.7982 1155.7339,-69.7982\"/>\n<polygon fill=\"#000000\" stroke=\"#000000\" points=\"1155.7477,-73.2983 1165.7476,-69.7982 1155.7476,-66.2983 1155.7477,-73.2983\"/>\n<text text-anchor=\"middle\" x=\"1048.9815\" y=\"-73.5982\" font-family=\"Times,serif\" font-size=\"14.00\" fill=\"#000000\">F:&lt;eps&gt;</text>\n</g>\n<!-- 10 -->\n<g id=\"node15\" class=\"node\">\n<title>10</title>\n<ellipse fill=\"none\" stroke=\"#000000\" cx=\"1384.376\" cy=\"-103.7982\" rx=\"20.6302\" ry=\"20.6302\"/>\n<ellipse fill=\"none\" stroke=\"#000000\" cx=\"1384.376\" cy=\"-103.7982\" rx=\"24.5979\" ry=\"24.5979\"/>\n<text text-anchor=\"middle\" x=\"1384.376\" y=\"-100.0982\" font-family=\"Times,serif\" font-size=\"14.00\" fill=\"#000000\">10</text>\n</g>\n<!-- 9&#45;&gt;10 -->\n<g id=\"edge14\" class=\"edge\">\n<title>9&#45;&gt;10</title>\n<path fill=\"none\" stroke=\"#000000\" d=\"M1201.06,-75.6534C1207.9954,-77.8334 1216.1034,-80.1705 1223.5779,-81.7982 1266.5556,-91.157 1316.91,-97.2825 1349.6639,-100.638\"/>\n<polygon fill=\"#000000\" stroke=\"#000000\" points=\"1349.3509,-104.1241 1359.6481,-101.6307 1350.0435,-97.1584 1349.3509,-104.1241\"/>\n<text text-anchor=\"middle\" x=\"1284.0779\" y=\"-103.5982\" font-family=\"Times,serif\" font-size=\"14.00\" fill=\"#000000\">k:INF</text>\n</g>\n<!-- 11 -->\n<g id=\"node16\" class=\"node\">\n<title>11</title>\n<ellipse fill=\"none\" stroke=\"#000000\" cx=\"1384.376\" cy=\"-36.7982\" rx=\"20.2726\" ry=\"20.2726\"/>\n<ellipse fill=\"none\" stroke=\"#000000\" cx=\"1384.376\" cy=\"-36.7982\" rx=\"24.2973\" ry=\"24.2973\"/>\n<text text-anchor=\"middle\" x=\"1384.376\" y=\"-33.0982\" font-family=\"Times,serif\" font-size=\"14.00\" fill=\"#000000\">11</text>\n</g>\n<!-- 9&#45;&gt;11 -->\n<g id=\"edge15\" class=\"edge\">\n<title>9&#45;&gt;11</title>\n<path fill=\"none\" stroke=\"#000000\" d=\"M1201.5813,-66.8696C1234.9766,-61.3758 1307.5224,-49.4413 1350.5022,-42.3707\"/>\n<polygon fill=\"#000000\" stroke=\"#000000\" points=\"1351.1928,-45.8042 1360.492,-40.7273 1350.0565,-38.8971 1351.1928,-45.8042\"/>\n<text text-anchor=\"middle\" x=\"1284.0779\" y=\"-66.5982\" font-family=\"Times,serif\" font-size=\"14.00\" fill=\"#000000\">&lt;eps&gt;:IMP</text>\n</g>\n<!-- 14 -->\n<g id=\"node18\" class=\"node\">\n<title>14</title>\n<ellipse fill=\"none\" stroke=\"#000000\" cx=\"795.5871\" cy=\"-355.7982\" rx=\"20.5982\" ry=\"20.5982\"/>\n<text text-anchor=\"middle\" x=\"795.5871\" y=\"-352.0982\" font-family=\"Times,serif\" font-size=\"14.00\" fill=\"#000000\">14</text>\n</g>\n<!-- 13&#45;&gt;14 -->\n<g id=\"edge17\" class=\"edge\">\n<title>13&#45;&gt;14</title>\n<path fill=\"none\" stroke=\"#000000\" d=\"M613.7281,-354.0047C649.5702,-354.3581 722.8454,-355.0808 764.6154,-355.4927\"/>\n<polygon fill=\"#000000\" stroke=\"#000000\" points=\"764.7278,-358.9939 774.7619,-355.5928 764.7969,-351.9942 764.7278,-358.9939\"/>\n<text text-anchor=\"middle\" x=\"692.7889\" y=\"-358.5982\" font-family=\"Times,serif\" font-size=\"14.00\" fill=\"#000000\">k:&lt;eps&gt;</text>\n</g>\n<!-- 15 -->\n<g id=\"node19\" class=\"node\">\n<title>15</title>\n<ellipse fill=\"none\" stroke=\"#000000\" cx=\"918.1834\" cy=\"-355.7982\" rx=\"20.5982\" ry=\"20.5982\"/>\n<text text-anchor=\"middle\" x=\"918.1834\" y=\"-352.0982\" font-family=\"Times,serif\" font-size=\"14.00\" fill=\"#000000\">15</text>\n</g>\n<!-- 14&#45;&gt;15 -->\n<g id=\"edge18\" class=\"edge\">\n<title>14&#45;&gt;15</title>\n<path fill=\"none\" stroke=\"#000000\" d=\"M816.6621,-355.7982C836.0773,-355.7982 865.1311,-355.7982 887.1895,-355.7982\"/>\n<polygon fill=\"#000000\" stroke=\"#000000\" points=\"887.3834,-359.2983 897.3833,-355.7982 887.3833,-352.2983 887.3834,-359.2983\"/>\n<text text-anchor=\"middle\" x=\"858.8852\" y=\"-359.5982\" font-family=\"Times,serif\" font-size=\"14.00\" fill=\"#000000\">u:&lt;eps&gt;</text>\n</g>\n<!-- 16 -->\n<g id=\"node20\" class=\"node\">\n<title>16</title>\n<ellipse fill=\"none\" stroke=\"#000000\" cx=\"1183.7797\" cy=\"-355.7982\" rx=\"20.6302\" ry=\"20.6302\"/>\n<ellipse fill=\"none\" stroke=\"#000000\" cx=\"1183.7797\" cy=\"-355.7982\" rx=\"24.5979\" ry=\"24.5979\"/>\n<text text-anchor=\"middle\" x=\"1183.7797\" y=\"-352.0982\" font-family=\"Times,serif\" font-size=\"14.00\" fill=\"#000000\">16</text>\n</g>\n<!-- 15&#45;&gt;16 -->\n<g id=\"edge19\" class=\"edge\">\n<title>15&#45;&gt;16</title>\n<path fill=\"none\" stroke=\"#000000\" d=\"M939.0243,-355.7982C984.4037,-355.7982 1092.5727,-355.7982 1148.6772,-355.7982\"/>\n<polygon fill=\"#000000\" stroke=\"#000000\" points=\"1148.8453,-359.2983 1158.8453,-355.7982 1148.8453,-352.2983 1148.8453,-359.2983\"/>\n<text text-anchor=\"middle\" x=\"1048.9815\" y=\"-359.5982\" font-family=\"Times,serif\" font-size=\"14.00\" fill=\"#000000\">x:DESIDERATIVE</text>\n</g>\n<!-- 19 -->\n<g id=\"node22\" class=\"node\">\n<title>19</title>\n<ellipse fill=\"none\" stroke=\"#000000\" cx=\"795.5871\" cy=\"-291.7982\" rx=\"20.6302\" ry=\"20.6302\"/>\n<ellipse fill=\"none\" stroke=\"#000000\" cx=\"795.5871\" cy=\"-291.7982\" rx=\"24.5979\" ry=\"24.5979\"/>\n<text text-anchor=\"middle\" x=\"795.5871\" y=\"-288.0982\" font-family=\"Times,serif\" font-size=\"14.00\" fill=\"#000000\">19</text>\n</g>\n<!-- 18&#45;&gt;19 -->\n<g id=\"edge21\" class=\"edge\">\n<title>18&#45;&gt;19</title>\n<path fill=\"none\" stroke=\"#000000\" d=\"M613.7281,-291.7982C648.4335,-291.7982 718.2353,-291.7982 760.5484,-291.7982\"/>\n<polygon fill=\"#000000\" stroke=\"#000000\" points=\"760.6756,-295.2983 770.6756,-291.7982 760.6756,-288.2983 760.6756,-295.2983\"/>\n<text text-anchor=\"middle\" x=\"692.7889\" y=\"-295.5982\" font-family=\"Times,serif\" font-size=\"14.00\" fill=\"#000000\">r:THEME.MID.IPFV</text>\n</g>\n<!-- 20 -->\n<g id=\"node23\" class=\"node\">\n<title>20</title>\n<ellipse fill=\"none\" stroke=\"#000000\" cx=\"795.5871\" cy=\"-227.7982\" rx=\"20.5982\" ry=\"20.5982\"/>\n<text text-anchor=\"middle\" x=\"795.5871\" y=\"-224.0982\" font-family=\"Times,serif\" font-size=\"14.00\" fill=\"#000000\">20</text>\n</g>\n<!-- 18&#45;&gt;20 -->\n<g id=\"edge22\" class=\"edge\">\n<title>18&#45;&gt;20</title>\n<path fill=\"none\" stroke=\"#000000\" d=\"M611.2612,-281.3516C617.0737,-278.3278 623.5944,-275.1987 629.7889,-272.7982 675.5866,-255.05 731.0707,-241.5146 764.8281,-234.1163\"/>\n<polygon fill=\"#000000\" stroke=\"#000000\" points=\"765.9443,-237.4564 774.9851,-231.9324 764.4728,-230.6128 765.9443,-237.4564\"/>\n<text text-anchor=\"middle\" x=\"692.7889\" y=\"-276.5982\" font-family=\"Times,serif\" font-size=\"14.00\" fill=\"#000000\">n:&lt;eps&gt;</text>\n</g>\n<!-- 21 -->\n<g id=\"node24\" class=\"node\">\n<title>21</title>\n<ellipse fill=\"none\" stroke=\"#000000\" cx=\"918.1834\" cy=\"-277.7982\" rx=\"20.5982\" ry=\"20.5982\"/>\n<text text-anchor=\"middle\" x=\"918.1834\" y=\"-274.0982\" font-family=\"Times,serif\" font-size=\"14.00\" fill=\"#000000\">21</text>\n</g>\n<!-- 20&#45;&gt;21 -->\n<g id=\"edge23\" class=\"edge\">\n<title>20&#45;&gt;21</title>\n<path fill=\"none\" stroke=\"#000000\" d=\"M815.0128,-235.7208C835.0095,-243.8763 866.3942,-256.6763 889.3007,-266.0185\"/>\n<polygon fill=\"#000000\" stroke=\"#000000\" points=\"888.2672,-269.3769 898.8485,-269.9126 890.9108,-262.8953 888.2672,-269.3769\"/>\n<text text-anchor=\"middle\" x=\"858.8852\" y=\"-266.5982\" font-family=\"Times,serif\" font-size=\"14.00\" fill=\"#000000\">u:&lt;eps&gt;</text>\n</g>\n<!-- 24 -->\n<g id=\"node25\" class=\"node\">\n<title>24</title>\n<ellipse fill=\"none\" stroke=\"#000000\" cx=\"918.1834\" cy=\"-216.7982\" rx=\"20.5982\" ry=\"20.5982\"/>\n<text text-anchor=\"middle\" x=\"918.1834\" y=\"-213.0982\" font-family=\"Times,serif\" font-size=\"14.00\" fill=\"#000000\">24</text>\n</g>\n<!-- 20&#45;&gt;24 -->\n<g id=\"edge24\" class=\"edge\">\n<title>20&#45;&gt;24</title>\n<path fill=\"none\" stroke=\"#000000\" d=\"M816.3839,-225.9322C835.7576,-224.1938 864.9013,-221.5789 887.0481,-219.5918\"/>\n<polygon fill=\"#000000\" stroke=\"#000000\" points=\"887.6374,-223.0531 897.2846,-218.6733 887.0118,-216.0811 887.6374,-223.0531\"/>\n<text text-anchor=\"middle\" x=\"858.8852\" y=\"-227.5982\" font-family=\"Times,serif\" font-size=\"14.00\" fill=\"#000000\">e:&lt;eps&gt;</text>\n</g>\n<!-- 22 -->\n<g id=\"node26\" class=\"node\">\n<title>22</title>\n<ellipse fill=\"none\" stroke=\"#000000\" cx=\"1183.7797\" cy=\"-280.7982\" rx=\"20.5982\" ry=\"20.5982\"/>\n<text text-anchor=\"middle\" x=\"1183.7797\" y=\"-277.0982\" font-family=\"Times,serif\" font-size=\"14.00\" fill=\"#000000\">22</text>\n</g>\n<!-- 21&#45;&gt;22 -->\n<g id=\"edge25\" class=\"edge\">\n<title>21&#45;&gt;22</title>\n<path fill=\"none\" stroke=\"#000000\" d=\"M939.0243,-278.0336C985.4558,-278.558 1097.6222,-279.825 1152.4941,-280.4448\"/>\n<polygon fill=\"#000000\" stroke=\"#000000\" points=\"1152.6292,-283.9464 1162.6681,-280.5597 1152.7083,-276.9469 1152.6292,-283.9464\"/>\n<text text-anchor=\"middle\" x=\"1048.9815\" y=\"-283.5982\" font-family=\"Times,serif\" font-size=\"14.00\" fill=\"#000000\">x:&lt;eps&gt;</text>\n</g>\n<!-- 25 -->\n<g id=\"node28\" class=\"node\">\n<title>25</title>\n<ellipse fill=\"none\" stroke=\"#000000\" cx=\"1183.7797\" cy=\"-216.7982\" rx=\"20.6302\" ry=\"20.6302\"/>\n<ellipse fill=\"none\" stroke=\"#000000\" cx=\"1183.7797\" cy=\"-216.7982\" rx=\"24.5979\" ry=\"24.5979\"/>\n<text text-anchor=\"middle\" x=\"1183.7797\" y=\"-213.0982\" font-family=\"Times,serif\" font-size=\"14.00\" fill=\"#000000\">25</text>\n</g>\n<!-- 24&#45;&gt;25 -->\n<g id=\"edge27\" class=\"edge\">\n<title>24&#45;&gt;25</title>\n<path fill=\"none\" stroke=\"#000000\" d=\"M939.0243,-216.7982C984.4037,-216.7982 1092.5727,-216.7982 1148.6772,-216.7982\"/>\n<polygon fill=\"#000000\" stroke=\"#000000\" points=\"1148.8453,-220.2983 1158.8453,-216.7982 1148.8453,-213.2983 1148.8453,-220.2983\"/>\n<text text-anchor=\"middle\" x=\"1048.9815\" y=\"-220.5982\" font-family=\"Times,serif\" font-size=\"14.00\" fill=\"#000000\">x:THEME.MID&#45;PFV.IMPROSP</text>\n</g>\n<!-- 23 -->\n<g id=\"node27\" class=\"node\">\n<title>23</title>\n<ellipse fill=\"none\" stroke=\"#000000\" cx=\"1384.376\" cy=\"-280.7982\" rx=\"20.6302\" ry=\"20.6302\"/>\n<ellipse fill=\"none\" stroke=\"#000000\" cx=\"1384.376\" cy=\"-280.7982\" rx=\"24.5979\" ry=\"24.5979\"/>\n<text text-anchor=\"middle\" x=\"1384.376\" y=\"-277.0982\" font-family=\"Times,serif\" font-size=\"14.00\" fill=\"#000000\">23</text>\n</g>\n<!-- 22&#45;&gt;23 -->\n<g id=\"edge26\" class=\"edge\">\n<title>22&#45;&gt;23</title>\n<path fill=\"none\" stroke=\"#000000\" d=\"M1204.8679,-280.7982C1239.1985,-280.7982 1307.5223,-280.7982 1349.2663,-280.7982\"/>\n<polygon fill=\"#000000\" stroke=\"#000000\" points=\"1349.5235,-284.2983 1359.5234,-280.7982 1349.5234,-277.2983 1349.5235,-284.2983\"/>\n<text text-anchor=\"middle\" x=\"1284.0779\" y=\"-284.5982\" font-family=\"Times,serif\" font-size=\"14.00\" fill=\"#000000\">k:THEME.MID&#45;INF</text>\n</g>\n<!-- 28 -->\n<g id=\"node30\" class=\"node\">\n<title>28</title>\n<ellipse fill=\"none\" stroke=\"#000000\" cx=\"367.9908\" cy=\"-69.7982\" rx=\"20.5982\" ry=\"20.5982\"/>\n<text text-anchor=\"middle\" x=\"367.9908\" y=\"-66.0982\" font-family=\"Times,serif\" font-size=\"14.00\" fill=\"#000000\">28</text>\n</g>\n<!-- 27&#45;&gt;28 -->\n<g id=\"edge29\" class=\"edge\">\n<title>27&#45;&gt;28</title>\n<path fill=\"none\" stroke=\"#000000\" d=\"M271.4183,-73.9043C289.6459,-73.1293 316.2723,-71.9971 336.9525,-71.1179\"/>\n<polygon fill=\"#000000\" stroke=\"#000000\" points=\"337.3067,-74.606 347.1489,-70.6843 337.0092,-67.6124 337.3067,-74.606\"/>\n<text text-anchor=\"middle\" x=\"309.1926\" y=\"-77.5982\" font-family=\"Times,serif\" font-size=\"14.00\" fill=\"#000000\">a:&lt;eps&gt;</text>\n</g>\n<!-- 29 -->\n<g id=\"node31\" class=\"node\">\n<title>29</title>\n<ellipse fill=\"none\" stroke=\"#000000\" cx=\"592.7889\" cy=\"-69.7982\" rx=\"20.5982\" ry=\"20.5982\"/>\n<text text-anchor=\"middle\" x=\"592.7889\" y=\"-66.0982\" font-family=\"Times,serif\" font-size=\"14.00\" fill=\"#000000\">29</text>\n</g>\n<!-- 28&#45;&gt;29 -->\n<g id=\"edge30\" class=\"edge\">\n<title>28&#45;&gt;29</title>\n<path fill=\"none\" stroke=\"#000000\" d=\"M389.1392,-69.7982C428.9891,-69.7982 515.3546,-69.7982 561.7795,-69.7982\"/>\n<polygon fill=\"#000000\" stroke=\"#000000\" points=\"561.8605,-73.2983 571.8604,-69.7982 561.8604,-66.2983 561.8605,-73.2983\"/>\n<text text-anchor=\"middle\" x=\"479.7889\" y=\"-73.5982\" font-family=\"Times,serif\" font-size=\"14.00\" fill=\"#000000\">k:pop&#45;</text>\n</g>\n<!-- 29&#45;&gt;7 -->\n<g id=\"edge31\" class=\"edge\">\n<title>29&#45;&gt;7</title>\n<path fill=\"none\" stroke=\"#000000\" d=\"M613.7281,-69.7982C650.3302,-69.7982 725.9697,-69.7982 767.2293,-69.7982\"/>\n<polygon fill=\"#000000\" stroke=\"#000000\" points=\"767.4145,-73.2983 777.4144,-69.7982 767.4144,-66.2983 767.4145,-73.2983\"/>\n<text text-anchor=\"middle\" x=\"692.7889\" y=\"-73.5982\" font-family=\"Times,serif\" font-size=\"14.00\" fill=\"#000000\">o:&lt;eps&gt;</text>\n</g>\n<!-- 31&#45;&gt;7 -->\n<g id=\"edge33\" class=\"edge\">\n<title>31&#45;&gt;7</title>\n<path fill=\"none\" stroke=\"#000000\" d=\"M330.007,-21.3577C379.5089,-22.8485 508.0991,-27.6622 614.7889,-39.7982 669.2241,-45.9902 732.2255,-57.4246 767.6432,-64.248\"/>\n<polygon fill=\"#000000\" stroke=\"#000000\" points=\"767.2249,-67.7322 777.7093,-66.2067 768.5619,-60.8611 767.2249,-67.7322\"/>\n<text text-anchor=\"middle\" x=\"479.7889\" y=\"-38.5982\" font-family=\"Times,serif\" font-size=\"14.00\" fill=\"#000000\">o:&lt;eps&gt;</text>\n</g>\n</g>\n</svg>\n"
          },
          "metadata": {
            "tags": []
          },
          "execution_count": 9
        }
      ]
    },
    {
      "cell_type": "markdown",
      "metadata": {
        "id": "BOziCTp-d_vA"
      },
      "source": [
        "Draw the FST transitions for the morphological decomposition graph"
      ]
    },
    {
      "cell_type": "code",
      "metadata": {
        "colab": {
          "base_uri": "https://localhost:8080/",
          "height": 336
        },
        "id": "L0jB5ePHd9sw",
        "outputId": "edd0be8b-cac5-48d2-fc83-2b6f78d19273"
      },
      "source": [
        "morphFST.draw(\"morph.gv\")\n",
        "morphFST"
      ],
      "execution_count": 10,
      "outputs": [
        {
          "output_type": "execute_result",
          "data": {
            "text/plain": [
              "<vector Fst at 0x7f3342d27930>"
            ],
            "image/svg+xml": "<?xml version=\"1.0\" encoding=\"UTF-8\" standalone=\"no\"?>\n<!DOCTYPE svg PUBLIC \"-//W3C//DTD SVG 1.1//EN\"\n \"http://www.w3.org/Graphics/SVG/1.1/DTD/svg11.dtd\">\n<!-- Generated by graphviz version 2.40.1 (20161225.0304)\n -->\n<!-- Title: FST Pages: 1 -->\n<svg width=\"612pt\" height=\"236pt\"\n viewBox=\"0.00 0.00 612.00 235.75\" xmlns=\"http://www.w3.org/2000/svg\" xmlns:xlink=\"http://www.w3.org/1999/xlink\">\n<g id=\"graph0\" class=\"graph\" transform=\"scale(.6067 .6067) rotate(0) translate(4 384.5963)\">\n<title>FST</title>\n<polygon fill=\"#ffffff\" stroke=\"transparent\" points=\"-4,4 -4,-384.5963 1004.7705,-384.5963 1004.7705,4 -4,4\"/>\n<!-- 0 -->\n<g id=\"node1\" class=\"node\">\n<title>0</title>\n<ellipse fill=\"none\" stroke=\"#000000\" stroke-width=\"2\" cx=\"18\" cy=\"-74.7982\" rx=\"18\" ry=\"18\"/>\n<text text-anchor=\"middle\" x=\"18\" y=\"-71.0982\" font-family=\"Times,serif\" font-size=\"14.00\" fill=\"#000000\">0</text>\n</g>\n<!-- 1 -->\n<g id=\"node2\" class=\"node\">\n<title>1</title>\n<ellipse fill=\"none\" stroke=\"#000000\" cx=\"105.7982\" cy=\"-161.7982\" rx=\"18\" ry=\"18\"/>\n<text text-anchor=\"middle\" x=\"105.7982\" y=\"-158.0982\" font-family=\"Times,serif\" font-size=\"14.00\" fill=\"#000000\">1</text>\n</g>\n<!-- 0&#45;&gt;1 -->\n<g id=\"edge1\" class=\"edge\">\n<title>0&#45;&gt;1</title>\n<path fill=\"none\" stroke=\"#000000\" d=\"M30.9549,-87.6353C45.35,-101.8995 68.7771,-125.1136 85.588,-141.7717\"/>\n<polygon fill=\"#000000\" stroke=\"#000000\" points=\"83.2232,-144.3558 92.7901,-148.9083 88.1503,-139.3834 83.2232,-144.3558\"/>\n<text text-anchor=\"middle\" x=\"60.5\" y=\"-130.5982\" font-family=\"Times,serif\" font-size=\"14.00\" fill=\"#000000\">a:a</text>\n</g>\n<!-- 26 -->\n<g id=\"node3\" class=\"node\">\n<title>26</title>\n<ellipse fill=\"none\" stroke=\"#000000\" cx=\"105.7982\" cy=\"-74.7982\" rx=\"20.5982\" ry=\"20.5982\"/>\n<text text-anchor=\"middle\" x=\"105.7982\" y=\"-71.0982\" font-family=\"Times,serif\" font-size=\"14.00\" fill=\"#000000\">26</text>\n</g>\n<!-- 0&#45;&gt;26 -->\n<g id=\"edge2\" class=\"edge\">\n<title>0&#45;&gt;26</title>\n<path fill=\"none\" stroke=\"#000000\" d=\"M36.1918,-74.7982C47.2576,-74.7982 61.6883,-74.7982 74.5391,-74.7982\"/>\n<polygon fill=\"#000000\" stroke=\"#000000\" points=\"74.8538,-78.2983 84.8537,-74.7982 74.8537,-71.2983 74.8538,-78.2983\"/>\n<text text-anchor=\"middle\" x=\"60.5\" y=\"-78.5982\" font-family=\"Times,serif\" font-size=\"14.00\" fill=\"#000000\">t:t</text>\n</g>\n<!-- 30 -->\n<g id=\"node4\" class=\"node\">\n<title>30</title>\n<ellipse fill=\"none\" stroke=\"#000000\" cx=\"162.3945\" cy=\"-21.7982\" rx=\"20.5982\" ry=\"20.5982\"/>\n<text text-anchor=\"middle\" x=\"162.3945\" y=\"-18.0982\" font-family=\"Times,serif\" font-size=\"14.00\" fill=\"#000000\">30</text>\n</g>\n<!-- 0&#45;&gt;30 -->\n<g id=\"edge3\" class=\"edge\">\n<title>0&#45;&gt;30</title>\n<path fill=\"none\" stroke=\"#000000\" d=\"M33.4273,-65.0225C38.8543,-61.8263 45.0782,-58.426 51,-55.7982 77.4452,-44.0628 109.1283,-34.8243 131.9325,-28.9576\"/>\n<polygon fill=\"#000000\" stroke=\"#000000\" points=\"132.8846,-32.3273 141.7346,-26.5025 131.1838,-25.5371 132.8846,-32.3273\"/>\n<text text-anchor=\"middle\" x=\"60.5\" y=\"-59.5982\" font-family=\"Times,serif\" font-size=\"14.00\" fill=\"#000000\">b:b</text>\n</g>\n<!-- 2 -->\n<g id=\"node5\" class=\"node\">\n<title>2</title>\n<ellipse fill=\"none\" stroke=\"#000000\" cx=\"218.9908\" cy=\"-195.7982\" rx=\"18\" ry=\"18\"/>\n<text text-anchor=\"middle\" x=\"218.9908\" y=\"-192.0982\" font-family=\"Times,serif\" font-size=\"14.00\" fill=\"#000000\">2</text>\n</g>\n<!-- 1&#45;&gt;2 -->\n<g id=\"edge4\" class=\"edge\">\n<title>1&#45;&gt;2</title>\n<path fill=\"none\" stroke=\"#000000\" d=\"M123.4845,-167.1107C141.7592,-172.5999 170.5241,-181.2401 191.714,-187.605\"/>\n<polygon fill=\"#000000\" stroke=\"#000000\" points=\"190.8444,-190.9982 201.4286,-190.523 192.8582,-184.2941 190.8444,-190.9982\"/>\n<text text-anchor=\"middle\" x=\"162.3945\" y=\"-189.5982\" font-family=\"Times,serif\" font-size=\"14.00\" fill=\"#000000\">l:l</text>\n</g>\n<!-- 27 -->\n<g id=\"node29\" class=\"node\">\n<title>27</title>\n<ellipse fill=\"none\" stroke=\"#000000\" cx=\"218.9908\" cy=\"-74.7982\" rx=\"20.5982\" ry=\"20.5982\"/>\n<text text-anchor=\"middle\" x=\"218.9908\" y=\"-71.0982\" font-family=\"Times,serif\" font-size=\"14.00\" fill=\"#000000\">27</text>\n</g>\n<!-- 26&#45;&gt;27 -->\n<g id=\"edge28\" class=\"edge\">\n<title>26&#45;&gt;27</title>\n<path fill=\"none\" stroke=\"#000000\" d=\"M126.8235,-74.7982C143.978,-74.7982 168.4644,-74.7982 187.8872,-74.7982\"/>\n<polygon fill=\"#000000\" stroke=\"#000000\" points=\"188.078,-78.2983 198.078,-74.7982 188.078,-71.2983 188.078,-78.2983\"/>\n<text text-anchor=\"middle\" x=\"162.3945\" y=\"-78.5982\" font-family=\"Times,serif\" font-size=\"14.00\" fill=\"#000000\">s:s</text>\n</g>\n<!-- 31 -->\n<g id=\"node32\" class=\"node\">\n<title>31</title>\n<ellipse fill=\"none\" stroke=\"#000000\" cx=\"277.7889\" cy=\"-20.7982\" rx=\"20.5982\" ry=\"20.5982\"/>\n<text text-anchor=\"middle\" x=\"277.7889\" y=\"-17.0982\" font-family=\"Times,serif\" font-size=\"14.00\" fill=\"#000000\">31</text>\n</g>\n<!-- 30&#45;&gt;31 -->\n<g id=\"edge32\" class=\"edge\">\n<title>30&#45;&gt;31</title>\n<path fill=\"none\" stroke=\"#000000\" d=\"M183.2915,-21.6171C200.9087,-21.4644 226.3821,-21.2436 246.4428,-21.0698\"/>\n<polygon fill=\"#000000\" stroke=\"#000000\" points=\"246.6881,-24.5679 256.6574,-20.9813 246.6274,-17.5682 246.6881,-24.5679\"/>\n<text text-anchor=\"middle\" x=\"218.9908\" y=\"-25.5982\" font-family=\"Times,serif\" font-size=\"14.00\" fill=\"#000000\">i:i</text>\n</g>\n<!-- 3 -->\n<g id=\"node6\" class=\"node\">\n<title>3</title>\n<ellipse fill=\"none\" stroke=\"#000000\" cx=\"336.5871\" cy=\"-228.7982\" rx=\"18\" ry=\"18\"/>\n<text text-anchor=\"middle\" x=\"336.5871\" y=\"-225.0982\" font-family=\"Times,serif\" font-size=\"14.00\" fill=\"#000000\">3</text>\n</g>\n<!-- 2&#45;&gt;3 -->\n<g id=\"edge5\" class=\"edge\">\n<title>2&#45;&gt;3</title>\n<path fill=\"none\" stroke=\"#000000\" d=\"M236.3425,-200.6674C255.6231,-206.078 287.0013,-214.8833 309.5177,-221.2019\"/>\n<polygon fill=\"#000000\" stroke=\"#000000\" points=\"308.5904,-224.5768 319.1642,-223.9089 310.4817,-217.8372 308.5904,-224.5768\"/>\n<text text-anchor=\"middle\" x=\"277.7889\" y=\"-221.5982\" font-family=\"Times,serif\" font-size=\"14.00\" fill=\"#000000\">e:&lt;eps&gt;</text>\n</g>\n<!-- 5 -->\n<g id=\"node7\" class=\"node\">\n<title>5</title>\n<ellipse fill=\"none\" stroke=\"#000000\" cx=\"336.5871\" cy=\"-172.7982\" rx=\"18\" ry=\"18\"/>\n<text text-anchor=\"middle\" x=\"336.5871\" y=\"-169.0982\" font-family=\"Times,serif\" font-size=\"14.00\" fill=\"#000000\">5</text>\n</g>\n<!-- 2&#45;&gt;5 -->\n<g id=\"edge6\" class=\"edge\">\n<title>2&#45;&gt;5</title>\n<path fill=\"none\" stroke=\"#000000\" d=\"M236.408,-191.1339C242.2304,-189.6511 248.7694,-188.068 254.7889,-186.7982 272.5427,-183.0529 292.6246,-179.6044 308.4475,-177.0671\"/>\n<polygon fill=\"#000000\" stroke=\"#000000\" points=\"309.3058,-180.4752 318.6404,-175.4637 308.2179,-173.5603 309.3058,-180.4752\"/>\n<text text-anchor=\"middle\" x=\"277.7889\" y=\"-190.5982\" font-family=\"Times,serif\" font-size=\"14.00\" fill=\"#000000\">i:&lt;eps&gt;</text>\n</g>\n<!-- 7 -->\n<g id=\"node8\" class=\"node\">\n<title>7</title>\n<ellipse fill=\"none\" stroke=\"#000000\" cx=\"583.1834\" cy=\"-69.7982\" rx=\"18\" ry=\"18\"/>\n<text text-anchor=\"middle\" x=\"583.1834\" y=\"-66.0982\" font-family=\"Times,serif\" font-size=\"14.00\" fill=\"#000000\">7</text>\n</g>\n<!-- 2&#45;&gt;7 -->\n<g id=\"edge7\" class=\"edge\">\n<title>2&#45;&gt;7</title>\n<path fill=\"none\" stroke=\"#000000\" d=\"M234.5064,-186.1405C253.1541,-174.928 285.7021,-156.5966 315.7889,-145.7982 413.9368,-110.572 445.2661,-124.1043 543.3852,-88.7982 548.176,-87.0743 553.1634,-84.9639 557.9219,-82.7842\"/>\n<polygon fill=\"#000000\" stroke=\"#000000\" points=\"559.7318,-85.7978 567.2317,-78.3142 556.702,-79.4874 559.7318,-85.7978\"/>\n<text text-anchor=\"middle\" x=\"397.3852\" y=\"-132.5982\" font-family=\"Times,serif\" font-size=\"14.00\" fill=\"#000000\">o:&lt;eps&gt;</text>\n</g>\n<!-- 12 -->\n<g id=\"node9\" class=\"node\">\n<title>12</title>\n<ellipse fill=\"none\" stroke=\"#000000\" cx=\"336.5871\" cy=\"-350.7982\" rx=\"20.5982\" ry=\"20.5982\"/>\n<text text-anchor=\"middle\" x=\"336.5871\" y=\"-347.0982\" font-family=\"Times,serif\" font-size=\"14.00\" fill=\"#000000\">12</text>\n</g>\n<!-- 2&#45;&gt;12 -->\n<g id=\"edge8\" class=\"edge\">\n<title>2&#45;&gt;12</title>\n<path fill=\"none\" stroke=\"#000000\" d=\"M222.9966,-213.6072C228.0113,-233.0311 238.0415,-264.3436 254.7889,-286.7982 269.5688,-306.6146 291.9789,-323.5618 309.6074,-335.0294\"/>\n<polygon fill=\"#000000\" stroke=\"#000000\" points=\"307.9962,-338.1507 318.3244,-340.5128 311.7235,-332.2256 307.9962,-338.1507\"/>\n<text text-anchor=\"middle\" x=\"277.7889\" y=\"-331.5982\" font-family=\"Times,serif\" font-size=\"14.00\" fill=\"#000000\">a:&lt;eps&gt;</text>\n</g>\n<!-- 17 -->\n<g id=\"node10\" class=\"node\">\n<title>17</title>\n<ellipse fill=\"none\" stroke=\"#000000\" cx=\"336.5871\" cy=\"-288.7982\" rx=\"20.5982\" ry=\"20.5982\"/>\n<text text-anchor=\"middle\" x=\"336.5871\" y=\"-285.0982\" font-family=\"Times,serif\" font-size=\"14.00\" fill=\"#000000\">17</text>\n</g>\n<!-- 2&#45;&gt;17 -->\n<g id=\"edge9\" class=\"edge\">\n<title>2&#45;&gt;17</title>\n<path fill=\"none\" stroke=\"#000000\" d=\"M230.0083,-210.3875C236.664,-218.6673 245.6135,-228.9173 254.7889,-236.7982 271.4357,-251.0963 292.3484,-264.3209 308.8613,-273.8555\"/>\n<polygon fill=\"#000000\" stroke=\"#000000\" points=\"307.5815,-277.1523 318.0098,-279.0231 311.0242,-271.0574 307.5815,-277.1523\"/>\n<text text-anchor=\"middle\" x=\"277.7889\" y=\"-271.5982\" font-family=\"Times,serif\" font-size=\"14.00\" fill=\"#000000\">i:&lt;eps&gt;</text>\n</g>\n<!-- 4 -->\n<g id=\"node11\" class=\"node\">\n<title>4</title>\n<ellipse fill=\"none\" stroke=\"#000000\" cx=\"459.3852\" cy=\"-230.7982\" rx=\"18\" ry=\"18\"/>\n<ellipse fill=\"none\" stroke=\"#000000\" cx=\"459.3852\" cy=\"-230.7982\" rx=\"22\" ry=\"22\"/>\n<text text-anchor=\"middle\" x=\"459.3852\" y=\"-227.0982\" font-family=\"Times,serif\" font-size=\"14.00\" fill=\"#000000\">4</text>\n</g>\n<!-- 3&#45;&gt;4 -->\n<g id=\"edge10\" class=\"edge\">\n<title>3&#45;&gt;4</title>\n<path fill=\"none\" stroke=\"#000000\" d=\"M354.7064,-229.0933C373.6828,-229.4023 403.8815,-229.8942 426.977,-230.2703\"/>\n<polygon fill=\"#000000\" stroke=\"#000000\" points=\"426.9671,-233.7705 437.0228,-230.4339 427.0811,-226.7715 426.9671,-233.7705\"/>\n<text text-anchor=\"middle\" x=\"397.3852\" y=\"-233.5982\" font-family=\"Times,serif\" font-size=\"14.00\" fill=\"#000000\">H:&#45;eH</text>\n</g>\n<!-- 6 -->\n<g id=\"node12\" class=\"node\">\n<title>6</title>\n<ellipse fill=\"none\" stroke=\"#000000\" cx=\"459.3852\" cy=\"-168.7982\" rx=\"18\" ry=\"18\"/>\n<ellipse fill=\"none\" stroke=\"#000000\" cx=\"459.3852\" cy=\"-168.7982\" rx=\"22\" ry=\"22\"/>\n<text text-anchor=\"middle\" x=\"459.3852\" y=\"-165.0982\" font-family=\"Times,serif\" font-size=\"14.00\" fill=\"#000000\">6</text>\n</g>\n<!-- 5&#45;&gt;6 -->\n<g id=\"edge11\" class=\"edge\">\n<title>5&#45;&gt;6</title>\n<path fill=\"none\" stroke=\"#000000\" d=\"M354.7064,-172.2079C373.6828,-171.5898 403.8815,-170.6061 426.977,-169.8538\"/>\n<polygon fill=\"#000000\" stroke=\"#000000\" points=\"427.1421,-173.3504 437.0228,-169.5266 426.9141,-166.3541 427.1421,-173.3504\"/>\n<text text-anchor=\"middle\" x=\"397.3852\" y=\"-175.5982\" font-family=\"Times,serif\" font-size=\"14.00\" fill=\"#000000\">&#39;:&#45;i&#39;</text>\n</g>\n<!-- 8 -->\n<g id=\"node13\" class=\"node\">\n<title>8</title>\n<ellipse fill=\"none\" stroke=\"#000000\" cx=\"705.7797\" cy=\"-69.7982\" rx=\"18\" ry=\"18\"/>\n<text text-anchor=\"middle\" x=\"705.7797\" y=\"-66.0982\" font-family=\"Times,serif\" font-size=\"14.00\" fill=\"#000000\">8</text>\n</g>\n<!-- 7&#45;&gt;8 -->\n<g id=\"edge12\" class=\"edge\">\n<title>7&#45;&gt;8</title>\n<path fill=\"none\" stroke=\"#000000\" d=\"M601.2729,-69.7982C621.3733,-69.7982 654.0856,-69.7982 677.5593,-69.7982\"/>\n<polygon fill=\"#000000\" stroke=\"#000000\" points=\"677.616,-73.2983 687.616,-69.7982 677.6159,-66.2983 677.616,-73.2983\"/>\n<text text-anchor=\"middle\" x=\"646.4815\" y=\"-73.5982\" font-family=\"Times,serif\" font-size=\"14.00\" fill=\"#000000\">q:&lt;eps&gt;</text>\n</g>\n<!-- 13 -->\n<g id=\"node17\" class=\"node\">\n<title>13</title>\n<ellipse fill=\"none\" stroke=\"#000000\" cx=\"459.3852\" cy=\"-353.7982\" rx=\"20.5982\" ry=\"20.5982\"/>\n<text text-anchor=\"middle\" x=\"459.3852\" y=\"-350.0982\" font-family=\"Times,serif\" font-size=\"14.00\" fill=\"#000000\">13</text>\n</g>\n<!-- 12&#45;&gt;13 -->\n<g id=\"edge16\" class=\"edge\">\n<title>12&#45;&gt;13</title>\n<path fill=\"none\" stroke=\"#000000\" d=\"M357.4181,-351.3071C376.8237,-351.7811 406.0154,-352.4943 428.1986,-353.0363\"/>\n<polygon fill=\"#000000\" stroke=\"#000000\" points=\"428.3695,-356.5414 438.452,-353.2867 428.5405,-349.5435 428.3695,-356.5414\"/>\n<text text-anchor=\"middle\" x=\"397.3852\" y=\"-356.5982\" font-family=\"Times,serif\" font-size=\"14.00\" fill=\"#000000\">&#39;:&lt;eps&gt;</text>\n</g>\n<!-- 18 -->\n<g id=\"node21\" class=\"node\">\n<title>18</title>\n<ellipse fill=\"none\" stroke=\"#000000\" cx=\"459.3852\" cy=\"-291.7982\" rx=\"20.5982\" ry=\"20.5982\"/>\n<text text-anchor=\"middle\" x=\"459.3852\" y=\"-288.0982\" font-family=\"Times,serif\" font-size=\"14.00\" fill=\"#000000\">18</text>\n</g>\n<!-- 17&#45;&gt;18 -->\n<g id=\"edge20\" class=\"edge\">\n<title>17&#45;&gt;18</title>\n<path fill=\"none\" stroke=\"#000000\" d=\"M357.4181,-289.3071C376.8237,-289.7811 406.0154,-290.4943 428.1986,-291.0363\"/>\n<polygon fill=\"#000000\" stroke=\"#000000\" points=\"428.3695,-294.5414 438.452,-291.2867 428.5405,-287.5435 428.3695,-294.5414\"/>\n<text text-anchor=\"middle\" x=\"397.3852\" y=\"-294.5982\" font-family=\"Times,serif\" font-size=\"14.00\" fill=\"#000000\">H:&lt;eps&gt;</text>\n</g>\n<!-- 9 -->\n<g id=\"node14\" class=\"node\">\n<title>9</title>\n<ellipse fill=\"none\" stroke=\"#000000\" cx=\"829.376\" cy=\"-69.7982\" rx=\"18\" ry=\"18\"/>\n<text text-anchor=\"middle\" x=\"829.376\" y=\"-66.0982\" font-family=\"Times,serif\" font-size=\"14.00\" fill=\"#000000\">9</text>\n</g>\n<!-- 8&#45;&gt;9 -->\n<g id=\"edge13\" class=\"edge\">\n<title>8&#45;&gt;9</title>\n<path fill=\"none\" stroke=\"#000000\" d=\"M724.0168,-69.7982C744.2811,-69.7982 777.2602,-69.7982 800.9255,-69.7982\"/>\n<polygon fill=\"#000000\" stroke=\"#000000\" points=\"801.0642,-73.2983 811.0641,-69.7982 801.0641,-66.2983 801.0642,-73.2983\"/>\n<text text-anchor=\"middle\" x=\"765.5779\" y=\"-73.5982\" font-family=\"Times,serif\" font-size=\"14.00\" fill=\"#000000\">F:&lt;eps&gt;</text>\n</g>\n<!-- 10 -->\n<g id=\"node15\" class=\"node\">\n<title>10</title>\n<ellipse fill=\"none\" stroke=\"#000000\" cx=\"975.9723\" cy=\"-103.7982\" rx=\"20.6302\" ry=\"20.6302\"/>\n<ellipse fill=\"none\" stroke=\"#000000\" cx=\"975.9723\" cy=\"-103.7982\" rx=\"24.5979\" ry=\"24.5979\"/>\n<text text-anchor=\"middle\" x=\"975.9723\" y=\"-100.0982\" font-family=\"Times,serif\" font-size=\"14.00\" fill=\"#000000\">10</text>\n</g>\n<!-- 9&#45;&gt;10 -->\n<g id=\"edge14\" class=\"edge\">\n<title>9&#45;&gt;10</title>\n<path fill=\"none\" stroke=\"#000000\" d=\"M847.1829,-74.3739C854.0465,-76.111 861.9663,-78.083 869.1742,-79.7982 893.2138,-85.5185 920.3859,-91.6197 941.3062,-96.239\"/>\n<polygon fill=\"#000000\" stroke=\"#000000\" points=\"940.8105,-99.7135 951.3291,-98.4444 942.3149,-92.8771 940.8105,-99.7135\"/>\n<text text-anchor=\"middle\" x=\"902.6742\" y=\"-99.5982\" font-family=\"Times,serif\" font-size=\"14.00\" fill=\"#000000\">k:&#45;oqFk</text>\n</g>\n<!-- 11 -->\n<g id=\"node16\" class=\"node\">\n<title>11</title>\n<ellipse fill=\"none\" stroke=\"#000000\" cx=\"975.9723\" cy=\"-36.7982\" rx=\"20.2726\" ry=\"20.2726\"/>\n<ellipse fill=\"none\" stroke=\"#000000\" cx=\"975.9723\" cy=\"-36.7982\" rx=\"24.2973\" ry=\"24.2973\"/>\n<text text-anchor=\"middle\" x=\"975.9723\" y=\"-33.0982\" font-family=\"Times,serif\" font-size=\"14.00\" fill=\"#000000\">11</text>\n</g>\n<!-- 9&#45;&gt;11 -->\n<g id=\"edge15\" class=\"edge\">\n<title>9&#45;&gt;11</title>\n<path fill=\"none\" stroke=\"#000000\" d=\"M847.0589,-65.8176C870.5607,-60.5272 912.5674,-51.0711 942.2323,-44.3933\"/>\n<polygon fill=\"#000000\" stroke=\"#000000\" points=\"943.1727,-47.7693 952.1599,-42.1585 941.6353,-40.9402 943.1727,-47.7693\"/>\n<text text-anchor=\"middle\" x=\"902.6742\" y=\"-64.5982\" font-family=\"Times,serif\" font-size=\"14.00\" fill=\"#000000\">&lt;eps&gt;:&#45;oqF</text>\n</g>\n<!-- 14 -->\n<g id=\"node18\" class=\"node\">\n<title>14</title>\n<ellipse fill=\"none\" stroke=\"#000000\" cx=\"583.1834\" cy=\"-355.7982\" rx=\"20.5982\" ry=\"20.5982\"/>\n<text text-anchor=\"middle\" x=\"583.1834\" y=\"-352.0982\" font-family=\"Times,serif\" font-size=\"14.00\" fill=\"#000000\">14</text>\n</g>\n<!-- 13&#45;&gt;14 -->\n<g id=\"edge17\" class=\"edge\">\n<title>13&#45;&gt;14</title>\n<path fill=\"none\" stroke=\"#000000\" d=\"M480.3859,-354.1374C500.0385,-354.4549 529.6467,-354.9333 552.0473,-355.2951\"/>\n<polygon fill=\"#000000\" stroke=\"#000000\" points=\"552.0244,-358.7951 562.0797,-355.4572 552.1376,-351.796 552.0244,-358.7951\"/>\n<text text-anchor=\"middle\" x=\"519.8852\" y=\"-358.5982\" font-family=\"Times,serif\" font-size=\"14.00\" fill=\"#000000\">k:&lt;eps&gt;</text>\n</g>\n<!-- 15 -->\n<g id=\"node19\" class=\"node\">\n<title>15</title>\n<ellipse fill=\"none\" stroke=\"#000000\" cx=\"705.7797\" cy=\"-355.7982\" rx=\"20.5982\" ry=\"20.5982\"/>\n<text text-anchor=\"middle\" x=\"705.7797\" y=\"-352.0982\" font-family=\"Times,serif\" font-size=\"14.00\" fill=\"#000000\">15</text>\n</g>\n<!-- 14&#45;&gt;15 -->\n<g id=\"edge18\" class=\"edge\">\n<title>14&#45;&gt;15</title>\n<path fill=\"none\" stroke=\"#000000\" d=\"M604.2584,-355.7982C623.6736,-355.7982 652.7275,-355.7982 674.7858,-355.7982\"/>\n<polygon fill=\"#000000\" stroke=\"#000000\" points=\"674.9797,-359.2983 684.9797,-355.7982 674.9796,-352.2983 674.9797,-359.2983\"/>\n<text text-anchor=\"middle\" x=\"646.4815\" y=\"-359.5982\" font-family=\"Times,serif\" font-size=\"14.00\" fill=\"#000000\">u:&lt;eps&gt;</text>\n</g>\n<!-- 16 -->\n<g id=\"node20\" class=\"node\">\n<title>16</title>\n<ellipse fill=\"none\" stroke=\"#000000\" cx=\"829.376\" cy=\"-355.7982\" rx=\"20.6302\" ry=\"20.6302\"/>\n<ellipse fill=\"none\" stroke=\"#000000\" cx=\"829.376\" cy=\"-355.7982\" rx=\"24.5979\" ry=\"24.5979\"/>\n<text text-anchor=\"middle\" x=\"829.376\" y=\"-352.0982\" font-family=\"Times,serif\" font-size=\"14.00\" fill=\"#000000\">16</text>\n</g>\n<!-- 15&#45;&gt;16 -->\n<g id=\"edge19\" class=\"edge\">\n<title>15&#45;&gt;16</title>\n<path fill=\"none\" stroke=\"#000000\" d=\"M726.7461,-355.7982C745.2125,-355.7982 772.4833,-355.7982 794.2729,-355.7982\"/>\n<polygon fill=\"#000000\" stroke=\"#000000\" points=\"794.4667,-359.2983 804.4667,-355.7982 794.4667,-352.2983 794.4667,-359.2983\"/>\n<text text-anchor=\"middle\" x=\"765.5779\" y=\"-359.5982\" font-family=\"Times,serif\" font-size=\"14.00\" fill=\"#000000\">x:&#45;a&#39;kux</text>\n</g>\n<!-- 19 -->\n<g id=\"node22\" class=\"node\">\n<title>19</title>\n<ellipse fill=\"none\" stroke=\"#000000\" cx=\"583.1834\" cy=\"-291.7982\" rx=\"20.6302\" ry=\"20.6302\"/>\n<ellipse fill=\"none\" stroke=\"#000000\" cx=\"583.1834\" cy=\"-291.7982\" rx=\"24.5979\" ry=\"24.5979\"/>\n<text text-anchor=\"middle\" x=\"583.1834\" y=\"-288.0982\" font-family=\"Times,serif\" font-size=\"14.00\" fill=\"#000000\">19</text>\n</g>\n<!-- 18&#45;&gt;19 -->\n<g id=\"edge21\" class=\"edge\">\n<title>18&#45;&gt;19</title>\n<path fill=\"none\" stroke=\"#000000\" d=\"M480.3859,-291.7982C498.8824,-291.7982 526.1978,-291.7982 548.023,-291.7982\"/>\n<polygon fill=\"#000000\" stroke=\"#000000\" points=\"548.2334,-295.2983 558.2334,-291.7982 548.2334,-288.2983 548.2334,-295.2983\"/>\n<text text-anchor=\"middle\" x=\"519.8852\" y=\"-295.5982\" font-family=\"Times,serif\" font-size=\"14.00\" fill=\"#000000\">r:&#45;iHr</text>\n</g>\n<!-- 20 -->\n<g id=\"node23\" class=\"node\">\n<title>20</title>\n<ellipse fill=\"none\" stroke=\"#000000\" cx=\"583.1834\" cy=\"-227.7982\" rx=\"20.5982\" ry=\"20.5982\"/>\n<text text-anchor=\"middle\" x=\"583.1834\" y=\"-224.0982\" font-family=\"Times,serif\" font-size=\"14.00\" fill=\"#000000\">20</text>\n</g>\n<!-- 18&#45;&gt;20 -->\n<g id=\"edge22\" class=\"edge\">\n<title>18&#45;&gt;20</title>\n<path fill=\"none\" stroke=\"#000000\" d=\"M477.9191,-282.2167C498.4314,-271.6124 531.7118,-254.4075 555.3569,-242.1836\"/>\n<polygon fill=\"#000000\" stroke=\"#000000\" points=\"557.247,-245.1466 564.5229,-237.4451 554.0324,-238.9284 557.247,-245.1466\"/>\n<text text-anchor=\"middle\" x=\"519.8852\" y=\"-274.5982\" font-family=\"Times,serif\" font-size=\"14.00\" fill=\"#000000\">n:&#45;iHn</text>\n</g>\n<!-- 21 -->\n<g id=\"node24\" class=\"node\">\n<title>21</title>\n<ellipse fill=\"none\" stroke=\"#000000\" cx=\"705.7797\" cy=\"-277.7982\" rx=\"20.5982\" ry=\"20.5982\"/>\n<text text-anchor=\"middle\" x=\"705.7797\" y=\"-274.0982\" font-family=\"Times,serif\" font-size=\"14.00\" fill=\"#000000\">21</text>\n</g>\n<!-- 20&#45;&gt;21 -->\n<g id=\"edge23\" class=\"edge\">\n<title>20&#45;&gt;21</title>\n<path fill=\"none\" stroke=\"#000000\" d=\"M602.6091,-235.7208C622.6059,-243.8763 653.9905,-256.6763 676.897,-266.0185\"/>\n<polygon fill=\"#000000\" stroke=\"#000000\" points=\"675.8635,-269.3769 686.4448,-269.9126 678.5071,-262.8953 675.8635,-269.3769\"/>\n<text text-anchor=\"middle\" x=\"646.4815\" y=\"-266.5982\" font-family=\"Times,serif\" font-size=\"14.00\" fill=\"#000000\">u:&lt;eps&gt;</text>\n</g>\n<!-- 24 -->\n<g id=\"node25\" class=\"node\">\n<title>24</title>\n<ellipse fill=\"none\" stroke=\"#000000\" cx=\"705.7797\" cy=\"-216.7982\" rx=\"20.5982\" ry=\"20.5982\"/>\n<text text-anchor=\"middle\" x=\"705.7797\" y=\"-213.0982\" font-family=\"Times,serif\" font-size=\"14.00\" fill=\"#000000\">24</text>\n</g>\n<!-- 20&#45;&gt;24 -->\n<g id=\"edge24\" class=\"edge\">\n<title>20&#45;&gt;24</title>\n<path fill=\"none\" stroke=\"#000000\" d=\"M603.9802,-225.9322C623.3539,-224.1938 652.4976,-221.5789 674.6444,-219.5918\"/>\n<polygon fill=\"#000000\" stroke=\"#000000\" points=\"675.2337,-223.0531 684.8809,-218.6733 674.6081,-216.0811 675.2337,-223.0531\"/>\n<text text-anchor=\"middle\" x=\"646.4815\" y=\"-227.5982\" font-family=\"Times,serif\" font-size=\"14.00\" fill=\"#000000\">e:&lt;eps&gt;</text>\n</g>\n<!-- 22 -->\n<g id=\"node26\" class=\"node\">\n<title>22</title>\n<ellipse fill=\"none\" stroke=\"#000000\" cx=\"829.376\" cy=\"-280.7982\" rx=\"20.5982\" ry=\"20.5982\"/>\n<text text-anchor=\"middle\" x=\"829.376\" y=\"-277.0982\" font-family=\"Times,serif\" font-size=\"14.00\" fill=\"#000000\">22</text>\n</g>\n<!-- 21&#45;&gt;22 -->\n<g id=\"edge25\" class=\"edge\">\n<title>21&#45;&gt;22</title>\n<path fill=\"none\" stroke=\"#000000\" d=\"M726.7461,-278.3071C746.3666,-278.7833 775.9266,-279.5008 798.2907,-280.0436\"/>\n<polygon fill=\"#000000\" stroke=\"#000000\" points=\"798.2247,-283.543 808.3067,-280.2867 798.3946,-276.545 798.2247,-283.543\"/>\n<text text-anchor=\"middle\" x=\"765.5779\" y=\"-283.5982\" font-family=\"Times,serif\" font-size=\"14.00\" fill=\"#000000\">x:&lt;eps&gt;</text>\n</g>\n<!-- 25 -->\n<g id=\"node28\" class=\"node\">\n<title>25</title>\n<ellipse fill=\"none\" stroke=\"#000000\" cx=\"829.376\" cy=\"-216.7982\" rx=\"20.6302\" ry=\"20.6302\"/>\n<ellipse fill=\"none\" stroke=\"#000000\" cx=\"829.376\" cy=\"-216.7982\" rx=\"24.5979\" ry=\"24.5979\"/>\n<text text-anchor=\"middle\" x=\"829.376\" y=\"-213.0982\" font-family=\"Times,serif\" font-size=\"14.00\" fill=\"#000000\">25</text>\n</g>\n<!-- 24&#45;&gt;25 -->\n<g id=\"edge27\" class=\"edge\">\n<title>24&#45;&gt;25</title>\n<path fill=\"none\" stroke=\"#000000\" d=\"M726.7461,-216.7982C745.2125,-216.7982 772.4833,-216.7982 794.2729,-216.7982\"/>\n<polygon fill=\"#000000\" stroke=\"#000000\" points=\"794.4667,-220.2983 804.4667,-216.7982 794.4667,-213.2983 794.4667,-220.2983\"/>\n<text text-anchor=\"middle\" x=\"765.5779\" y=\"-220.5982\" font-family=\"Times,serif\" font-size=\"14.00\" fill=\"#000000\">x:&#45;ex</text>\n</g>\n<!-- 23 -->\n<g id=\"node27\" class=\"node\">\n<title>23</title>\n<ellipse fill=\"none\" stroke=\"#000000\" cx=\"975.9723\" cy=\"-280.7982\" rx=\"20.6302\" ry=\"20.6302\"/>\n<ellipse fill=\"none\" stroke=\"#000000\" cx=\"975.9723\" cy=\"-280.7982\" rx=\"24.5979\" ry=\"24.5979\"/>\n<text text-anchor=\"middle\" x=\"975.9723\" y=\"-277.0982\" font-family=\"Times,serif\" font-size=\"14.00\" fill=\"#000000\">23</text>\n</g>\n<!-- 22&#45;&gt;23 -->\n<g id=\"edge26\" class=\"edge\">\n<title>22&#45;&gt;23</title>\n<path fill=\"none\" stroke=\"#000000\" d=\"M850.3797,-280.7982C873.9675,-280.7982 912.6313,-280.7982 940.8382,-280.7982\"/>\n<polygon fill=\"#000000\" stroke=\"#000000\" points=\"941.0835,-284.2983 951.0835,-280.7982 941.0835,-277.2983 941.0835,-284.2983\"/>\n<text text-anchor=\"middle\" x=\"902.6742\" y=\"-284.5982\" font-family=\"Times,serif\" font-size=\"14.00\" fill=\"#000000\">k:&#45;uxk</text>\n</g>\n<!-- 28 -->\n<g id=\"node30\" class=\"node\">\n<title>28</title>\n<ellipse fill=\"none\" stroke=\"#000000\" cx=\"336.5871\" cy=\"-69.7982\" rx=\"20.5982\" ry=\"20.5982\"/>\n<text text-anchor=\"middle\" x=\"336.5871\" y=\"-66.0982\" font-family=\"Times,serif\" font-size=\"14.00\" fill=\"#000000\">28</text>\n</g>\n<!-- 27&#45;&gt;28 -->\n<g id=\"edge29\" class=\"edge\">\n<title>27&#45;&gt;28</title>\n<path fill=\"none\" stroke=\"#000000\" d=\"M240.0146,-73.9043C258.2422,-73.1293 284.8686,-71.9971 305.5488,-71.1179\"/>\n<polygon fill=\"#000000\" stroke=\"#000000\" points=\"305.903,-74.606 315.7452,-70.6843 305.6055,-67.6124 305.903,-74.606\"/>\n<text text-anchor=\"middle\" x=\"277.7889\" y=\"-77.5982\" font-family=\"Times,serif\" font-size=\"14.00\" fill=\"#000000\">a:a</text>\n</g>\n<!-- 29 -->\n<g id=\"node31\" class=\"node\">\n<title>29</title>\n<ellipse fill=\"none\" stroke=\"#000000\" cx=\"459.3852\" cy=\"-69.7982\" rx=\"20.5982\" ry=\"20.5982\"/>\n<text text-anchor=\"middle\" x=\"459.3852\" y=\"-66.0982\" font-family=\"Times,serif\" font-size=\"14.00\" fill=\"#000000\">29</text>\n</g>\n<!-- 28&#45;&gt;29 -->\n<g id=\"edge30\" class=\"edge\">\n<title>28&#45;&gt;29</title>\n<path fill=\"none\" stroke=\"#000000\" d=\"M357.4181,-69.7982C376.8237,-69.7982 406.0154,-69.7982 428.1986,-69.7982\"/>\n<polygon fill=\"#000000\" stroke=\"#000000\" points=\"428.452,-73.2983 438.452,-69.7982 428.452,-66.2983 428.452,-73.2983\"/>\n<text text-anchor=\"middle\" x=\"397.3852\" y=\"-73.5982\" font-family=\"Times,serif\" font-size=\"14.00\" fill=\"#000000\">k:k</text>\n</g>\n<!-- 29&#45;&gt;7 -->\n<g id=\"edge31\" class=\"edge\">\n<title>29&#45;&gt;7</title>\n<path fill=\"none\" stroke=\"#000000\" d=\"M480.3859,-69.7982C500.8722,-69.7982 532.1768,-69.7982 554.8581,-69.7982\"/>\n<polygon fill=\"#000000\" stroke=\"#000000\" points=\"554.9083,-73.2983 564.9082,-69.7982 554.9082,-66.2983 554.9083,-73.2983\"/>\n<text text-anchor=\"middle\" x=\"519.8852\" y=\"-73.5982\" font-family=\"Times,serif\" font-size=\"14.00\" fill=\"#000000\">o:&lt;eps&gt;</text>\n</g>\n<!-- 31&#45;&gt;7 -->\n<g id=\"edge33\" class=\"edge\">\n<title>31&#45;&gt;7</title>\n<path fill=\"none\" stroke=\"#000000\" d=\"M298.7865,-21.4198C335.9238,-22.8155 415.4951,-27.1385 481.3852,-39.7982 507.3895,-44.7944 536.2799,-53.636 556.6202,-60.4307\"/>\n<polygon fill=\"#000000\" stroke=\"#000000\" points=\"555.5479,-63.7629 566.1423,-63.6709 557.8029,-57.136 555.5479,-63.7629\"/>\n<text text-anchor=\"middle\" x=\"397.3852\" y=\"-34.5982\" font-family=\"Times,serif\" font-size=\"14.00\" fill=\"#000000\">o:&lt;eps&gt;</text>\n</g>\n</g>\n</svg>\n"
          },
          "metadata": {
            "tags": []
          },
          "execution_count": 10
        }
      ]
    },
    {
      "cell_type": "markdown",
      "metadata": {
        "id": "hwXukmC_RQBJ"
      },
      "source": [
        "Step 8: Generate PDF and download first file.\n",
        "\n",
        "(This works for Google Chrome. Read here:\n",
        "https://stackoverflow.com/questions/48774285/how-to-download-file-created-in-colaboratory-workspace ). If you are working from a different browser, you can still download the file by clicking on the folder icon from Google Colab (left panel, fourth button from the top down)."
      ]
    },
    {
      "cell_type": "code",
      "metadata": {
        "colab": {
          "base_uri": "https://localhost:8080/",
          "height": 17
        },
        "id": "aTE8nDmbRPj5",
        "outputId": "5b24a2fb-759c-4978-91ed-8daeea708e09"
      },
      "source": [
        "render('dot','pdf','translate.gv')\n",
        "files.download('translate.gv.pdf')"
      ],
      "execution_count": 11,
      "outputs": [
        {
          "output_type": "display_data",
          "data": {
            "application/javascript": [
              "\n",
              "    async function download(id, filename, size) {\n",
              "      if (!google.colab.kernel.accessAllowed) {\n",
              "        return;\n",
              "      }\n",
              "      const div = document.createElement('div');\n",
              "      const label = document.createElement('label');\n",
              "      label.textContent = `Downloading \"${filename}\": `;\n",
              "      div.appendChild(label);\n",
              "      const progress = document.createElement('progress');\n",
              "      progress.max = size;\n",
              "      div.appendChild(progress);\n",
              "      document.body.appendChild(div);\n",
              "\n",
              "      const buffers = [];\n",
              "      let downloaded = 0;\n",
              "\n",
              "      const channel = await google.colab.kernel.comms.open(id);\n",
              "      // Send a message to notify the kernel that we're ready.\n",
              "      channel.send({})\n",
              "\n",
              "      for await (const message of channel.messages) {\n",
              "        // Send a message to notify the kernel that we're ready.\n",
              "        channel.send({})\n",
              "        if (message.buffers) {\n",
              "          for (const buffer of message.buffers) {\n",
              "            buffers.push(buffer);\n",
              "            downloaded += buffer.byteLength;\n",
              "            progress.value = downloaded;\n",
              "          }\n",
              "        }\n",
              "      }\n",
              "      const blob = new Blob(buffers, {type: 'application/binary'});\n",
              "      const a = document.createElement('a');\n",
              "      a.href = window.URL.createObjectURL(blob);\n",
              "      a.download = filename;\n",
              "      div.appendChild(a);\n",
              "      a.click();\n",
              "      div.remove();\n",
              "    }\n",
              "  "
            ],
            "text/plain": [
              "<IPython.core.display.Javascript object>"
            ]
          },
          "metadata": {
            "tags": []
          }
        },
        {
          "output_type": "display_data",
          "data": {
            "application/javascript": [
              "download(\"download_50d8f798-014d-489a-bb04-956fbac0e06d\", \"translate.gv.pdf\", 21228)"
            ],
            "text/plain": [
              "<IPython.core.display.Javascript object>"
            ]
          },
          "metadata": {
            "tags": []
          }
        }
      ]
    },
    {
      "cell_type": "markdown",
      "metadata": {
        "id": "aEvMG8-NdYV1"
      },
      "source": [
        "Generate PDF and download second file.\n"
      ]
    },
    {
      "cell_type": "code",
      "metadata": {
        "colab": {
          "base_uri": "https://localhost:8080/",
          "height": 17
        },
        "id": "U4A-NAq8dKTB",
        "outputId": "dcc94d36-2093-40cf-dcc7-4f9ea36e7e09"
      },
      "source": [
        "render('dot','pdf','morph.gv')\n",
        "files.download('morph.gv.pdf')"
      ],
      "execution_count": 12,
      "outputs": [
        {
          "output_type": "display_data",
          "data": {
            "application/javascript": [
              "\n",
              "    async function download(id, filename, size) {\n",
              "      if (!google.colab.kernel.accessAllowed) {\n",
              "        return;\n",
              "      }\n",
              "      const div = document.createElement('div');\n",
              "      const label = document.createElement('label');\n",
              "      label.textContent = `Downloading \"${filename}\": `;\n",
              "      div.appendChild(label);\n",
              "      const progress = document.createElement('progress');\n",
              "      progress.max = size;\n",
              "      div.appendChild(progress);\n",
              "      document.body.appendChild(div);\n",
              "\n",
              "      const buffers = [];\n",
              "      let downloaded = 0;\n",
              "\n",
              "      const channel = await google.colab.kernel.comms.open(id);\n",
              "      // Send a message to notify the kernel that we're ready.\n",
              "      channel.send({})\n",
              "\n",
              "      for await (const message of channel.messages) {\n",
              "        // Send a message to notify the kernel that we're ready.\n",
              "        channel.send({})\n",
              "        if (message.buffers) {\n",
              "          for (const buffer of message.buffers) {\n",
              "            buffers.push(buffer);\n",
              "            downloaded += buffer.byteLength;\n",
              "            progress.value = downloaded;\n",
              "          }\n",
              "        }\n",
              "      }\n",
              "      const blob = new Blob(buffers, {type: 'application/binary'});\n",
              "      const a = document.createElement('a');\n",
              "      a.href = window.URL.createObjectURL(blob);\n",
              "      a.download = filename;\n",
              "      div.appendChild(a);\n",
              "      a.click();\n",
              "      div.remove();\n",
              "    }\n",
              "  "
            ],
            "text/plain": [
              "<IPython.core.display.Javascript object>"
            ]
          },
          "metadata": {
            "tags": []
          }
        },
        {
          "output_type": "display_data",
          "data": {
            "application/javascript": [
              "download(\"download_9be96089-648c-43ee-9305-8850c72400d7\", \"morph.gv.pdf\", 17418)"
            ],
            "text/plain": [
              "<IPython.core.display.Javascript object>"
            ]
          },
          "metadata": {
            "tags": []
          }
        }
      ]
    }
  ]
}